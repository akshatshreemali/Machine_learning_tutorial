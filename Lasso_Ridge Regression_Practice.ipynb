{
 "cells": [
  {
   "cell_type": "markdown",
   "metadata": {},
   "source": [
    "# IDS Final Project Presentation                                                                    \n",
    "                                                                                         "
   ]
  },
  {
   "cell_type": "markdown",
   "metadata": {},
   "source": [
    "# NYC Noise Complaints\n",
    ">- The dataset consists of complaints requests for different types of noises within New York City. It also provides us with the information about the agencies that are responsible for responding to these requests and the location where these complaints occur.\n"
   ]
  },
  {
   "cell_type": "code",
   "execution_count": 1,
   "metadata": {},
   "outputs": [
    {
     "name": "stderr",
     "output_type": "stream",
     "text": [
      "C:\\Users\\Akshat\\Anaconda3\\lib\\site-packages\\statsmodels\\compat\\pandas.py:56: FutureWarning: The pandas.core.datetools module is deprecated and will be removed in a future version. Please use the pandas.tseries module instead.\n",
      "  from pandas.core import datetools\n"
     ]
    }
   ],
   "source": [
    "%matplotlib inline\n",
    "\n",
    "import os\n",
    "import numpy as np # importing numpy array\n",
    "import pandas as pd # importing panda library\n",
    "import seaborn as sns # importing seaborn, advanced of matplot\n",
    "import matplotlib.pyplot as plt\n",
    "from statsmodels.formula.api import ols\n",
    "import scipy.stats as st\n",
    "import statsmodels.api as sm\n",
    "\n",
    "if int(os.environ.get(\"MODERN_PANDAS_EPUB\", 0)):\n",
    "    import prep # noqa\n",
    "\n",
    "pd.options.display.max_rows = 30\n",
    "sns.set(style='ticks', context='talk')"
   ]
  },
  {
   "cell_type": "markdown",
   "metadata": {},
   "source": [
    "# DATA IMPORTING"
   ]
  },
  {
   "cell_type": "code",
   "execution_count": 2,
   "metadata": {},
   "outputs": [
    {
     "data": {
      "text/html": [
       "<div>\n",
       "<style>\n",
       "    .dataframe thead tr:only-child th {\n",
       "        text-align: right;\n",
       "    }\n",
       "\n",
       "    .dataframe thead th {\n",
       "        text-align: left;\n",
       "    }\n",
       "\n",
       "    .dataframe tbody tr th {\n",
       "        vertical-align: top;\n",
       "    }\n",
       "</style>\n",
       "<table border=\"1\" class=\"dataframe\">\n",
       "  <thead>\n",
       "    <tr style=\"text-align: right;\">\n",
       "      <th></th>\n",
       "      <th>Unique Key</th>\n",
       "      <th>Created Date</th>\n",
       "      <th>Closed Date</th>\n",
       "      <th>Agency</th>\n",
       "      <th>Agency Name</th>\n",
       "      <th>Complaint Type</th>\n",
       "      <th>Descriptor</th>\n",
       "      <th>Location Type</th>\n",
       "      <th>Incident Zip</th>\n",
       "      <th>Incident Address</th>\n",
       "      <th>...</th>\n",
       "      <th>Bridge Highway Name</th>\n",
       "      <th>Bridge Highway Direction</th>\n",
       "      <th>Road Ramp</th>\n",
       "      <th>Bridge Highway Segment</th>\n",
       "      <th>Garage Lot Name</th>\n",
       "      <th>Ferry Direction</th>\n",
       "      <th>Ferry Terminal Name</th>\n",
       "      <th>Latitude</th>\n",
       "      <th>Longitude</th>\n",
       "      <th>Location</th>\n",
       "    </tr>\n",
       "  </thead>\n",
       "  <tbody>\n",
       "    <tr>\n",
       "      <th>0</th>\n",
       "      <td>29607578</td>\n",
       "      <td>1/1/2015 1:39</td>\n",
       "      <td>1/1/2015 3:48</td>\n",
       "      <td>NYPD</td>\n",
       "      <td>New York City Police Department</td>\n",
       "      <td>Noise - Residential</td>\n",
       "      <td>Loud Music/Party</td>\n",
       "      <td>Residential Building/House</td>\n",
       "      <td>10452.0</td>\n",
       "      <td>930 OGDEN AVENUE</td>\n",
       "      <td>...</td>\n",
       "      <td>NaN</td>\n",
       "      <td>NaN</td>\n",
       "      <td>NaN</td>\n",
       "      <td>NaN</td>\n",
       "      <td>NaN</td>\n",
       "      <td>NaN</td>\n",
       "      <td>NaN</td>\n",
       "      <td>40.831196</td>\n",
       "      <td>-73.930349</td>\n",
       "      <td>(40.831195901208176, -73.93034856129522)</td>\n",
       "    </tr>\n",
       "    <tr>\n",
       "      <th>1</th>\n",
       "      <td>29607583</td>\n",
       "      <td>1/1/2015 2:07</td>\n",
       "      <td>1/1/2015 7:30</td>\n",
       "      <td>NYPD</td>\n",
       "      <td>New York City Police Department</td>\n",
       "      <td>Noise - Residential</td>\n",
       "      <td>Loud Music/Party</td>\n",
       "      <td>Residential Building/House</td>\n",
       "      <td>10465.0</td>\n",
       "      <td>555 CALHOUN AVENUE</td>\n",
       "      <td>...</td>\n",
       "      <td>NaN</td>\n",
       "      <td>NaN</td>\n",
       "      <td>NaN</td>\n",
       "      <td>NaN</td>\n",
       "      <td>NaN</td>\n",
       "      <td>NaN</td>\n",
       "      <td>NaN</td>\n",
       "      <td>40.822870</td>\n",
       "      <td>-73.821971</td>\n",
       "      <td>(40.82287006360793, -73.82197105362941)</td>\n",
       "    </tr>\n",
       "    <tr>\n",
       "      <th>2</th>\n",
       "      <td>29607586</td>\n",
       "      <td>1/1/2015 2:10</td>\n",
       "      <td>1/1/2015 4:54</td>\n",
       "      <td>NYPD</td>\n",
       "      <td>New York City Police Department</td>\n",
       "      <td>Noise - Residential</td>\n",
       "      <td>Loud Music/Party</td>\n",
       "      <td>Residential Building/House</td>\n",
       "      <td>10474.0</td>\n",
       "      <td>770 BRYANT AVENUE</td>\n",
       "      <td>...</td>\n",
       "      <td>NaN</td>\n",
       "      <td>NaN</td>\n",
       "      <td>NaN</td>\n",
       "      <td>NaN</td>\n",
       "      <td>NaN</td>\n",
       "      <td>NaN</td>\n",
       "      <td>NaN</td>\n",
       "      <td>40.816130</td>\n",
       "      <td>-73.885942</td>\n",
       "      <td>(40.81613045265912, -73.88594198876609)</td>\n",
       "    </tr>\n",
       "    <tr>\n",
       "      <th>3</th>\n",
       "      <td>29607587</td>\n",
       "      <td>1/1/2015 0:19</td>\n",
       "      <td>1/1/2015 0:41</td>\n",
       "      <td>NYPD</td>\n",
       "      <td>New York City Police Department</td>\n",
       "      <td>Noise - Residential</td>\n",
       "      <td>Loud Talking</td>\n",
       "      <td>Residential Building/House</td>\n",
       "      <td>10468.0</td>\n",
       "      <td>2337 GRAND CONCOURSE</td>\n",
       "      <td>...</td>\n",
       "      <td>NaN</td>\n",
       "      <td>NaN</td>\n",
       "      <td>NaN</td>\n",
       "      <td>NaN</td>\n",
       "      <td>NaN</td>\n",
       "      <td>NaN</td>\n",
       "      <td>NaN</td>\n",
       "      <td>40.858406</td>\n",
       "      <td>-73.899386</td>\n",
       "      <td>(40.85840604170503, -73.89938613893433)</td>\n",
       "    </tr>\n",
       "    <tr>\n",
       "      <th>4</th>\n",
       "      <td>29607589</td>\n",
       "      <td>1/1/2015 0:01</td>\n",
       "      <td>1/1/2015 0:20</td>\n",
       "      <td>NYPD</td>\n",
       "      <td>New York City Police Department</td>\n",
       "      <td>Noise - Street/Sidewalk</td>\n",
       "      <td>Loud Music/Party</td>\n",
       "      <td>Street/Sidewalk</td>\n",
       "      <td>10031.0</td>\n",
       "      <td>508 WEST 139 STREET</td>\n",
       "      <td>...</td>\n",
       "      <td>NaN</td>\n",
       "      <td>NaN</td>\n",
       "      <td>NaN</td>\n",
       "      <td>NaN</td>\n",
       "      <td>NaN</td>\n",
       "      <td>NaN</td>\n",
       "      <td>NaN</td>\n",
       "      <td>40.821647</td>\n",
       "      <td>-73.950873</td>\n",
       "      <td>(40.821646626438095, -73.95087342885292)</td>\n",
       "    </tr>\n",
       "  </tbody>\n",
       "</table>\n",
       "<p>5 rows × 53 columns</p>\n",
       "</div>"
      ],
      "text/plain": [
       "   Unique Key   Created Date    Closed Date Agency  \\\n",
       "0    29607578  1/1/2015 1:39  1/1/2015 3:48   NYPD   \n",
       "1    29607583  1/1/2015 2:07  1/1/2015 7:30   NYPD   \n",
       "2    29607586  1/1/2015 2:10  1/1/2015 4:54   NYPD   \n",
       "3    29607587  1/1/2015 0:19  1/1/2015 0:41   NYPD   \n",
       "4    29607589  1/1/2015 0:01  1/1/2015 0:20   NYPD   \n",
       "\n",
       "                       Agency Name           Complaint Type        Descriptor  \\\n",
       "0  New York City Police Department      Noise - Residential  Loud Music/Party   \n",
       "1  New York City Police Department      Noise - Residential  Loud Music/Party   \n",
       "2  New York City Police Department      Noise - Residential  Loud Music/Party   \n",
       "3  New York City Police Department      Noise - Residential      Loud Talking   \n",
       "4  New York City Police Department  Noise - Street/Sidewalk  Loud Music/Party   \n",
       "\n",
       "                Location Type  Incident Zip      Incident Address  \\\n",
       "0  Residential Building/House       10452.0      930 OGDEN AVENUE   \n",
       "1  Residential Building/House       10465.0    555 CALHOUN AVENUE   \n",
       "2  Residential Building/House       10474.0     770 BRYANT AVENUE   \n",
       "3  Residential Building/House       10468.0  2337 GRAND CONCOURSE   \n",
       "4             Street/Sidewalk       10031.0   508 WEST 139 STREET   \n",
       "\n",
       "                     ...                    Bridge Highway Name  \\\n",
       "0                    ...                                    NaN   \n",
       "1                    ...                                    NaN   \n",
       "2                    ...                                    NaN   \n",
       "3                    ...                                    NaN   \n",
       "4                    ...                                    NaN   \n",
       "\n",
       "  Bridge Highway Direction Road Ramp Bridge Highway Segment Garage Lot Name  \\\n",
       "0                      NaN       NaN                    NaN             NaN   \n",
       "1                      NaN       NaN                    NaN             NaN   \n",
       "2                      NaN       NaN                    NaN             NaN   \n",
       "3                      NaN       NaN                    NaN             NaN   \n",
       "4                      NaN       NaN                    NaN             NaN   \n",
       "\n",
       "  Ferry Direction Ferry Terminal Name   Latitude  Longitude  \\\n",
       "0             NaN                 NaN  40.831196 -73.930349   \n",
       "1             NaN                 NaN  40.822870 -73.821971   \n",
       "2             NaN                 NaN  40.816130 -73.885942   \n",
       "3             NaN                 NaN  40.858406 -73.899386   \n",
       "4             NaN                 NaN  40.821647 -73.950873   \n",
       "\n",
       "                                   Location  \n",
       "0  (40.831195901208176, -73.93034856129522)  \n",
       "1   (40.82287006360793, -73.82197105362941)  \n",
       "2   (40.81613045265912, -73.88594198876609)  \n",
       "3   (40.85840604170503, -73.89938613893433)  \n",
       "4  (40.821646626438095, -73.95087342885292)  \n",
       "\n",
       "[5 rows x 53 columns]"
      ]
     },
     "execution_count": 2,
     "metadata": {},
     "output_type": "execute_result"
    }
   ],
   "source": [
    "#read_csv is a function in pandas used to read data from an csv file into a list of DataFrames\n",
    "tables = pd.read_csv(\"C:/Users/Akshat/Downloads/Noise_Data_new.csv\")\n",
    "tables.head()"
   ]
  },
  {
   "cell_type": "code",
   "execution_count": 3,
   "metadata": {},
   "outputs": [
    {
     "data": {
      "text/plain": [
       "(338746, 53)"
      ]
     },
     "execution_count": 3,
     "metadata": {},
     "output_type": "execute_result"
    }
   ],
   "source": [
    "# Structure of the data\n",
    "tables.shape"
   ]
  },
  {
   "cell_type": "markdown",
   "metadata": {},
   "source": [
    "As we can see, there 53 columns and total 342079 rows in our data."
   ]
  },
  {
   "cell_type": "markdown",
   "metadata": {},
   "source": [
    "# Data Cleaning Process"
   ]
  },
  {
   "cell_type": "markdown",
   "metadata": {},
   "source": [
    "# Step 1: \n",
    "Drop all columns with only NaN values"
   ]
  },
  {
   "cell_type": "code",
   "execution_count": 4,
   "metadata": {},
   "outputs": [
    {
     "data": {
      "text/html": [
       "<div>\n",
       "<style>\n",
       "    .dataframe thead tr:only-child th {\n",
       "        text-align: right;\n",
       "    }\n",
       "\n",
       "    .dataframe thead th {\n",
       "        text-align: left;\n",
       "    }\n",
       "\n",
       "    .dataframe tbody tr th {\n",
       "        vertical-align: top;\n",
       "    }\n",
       "</style>\n",
       "<table border=\"1\" class=\"dataframe\">\n",
       "  <thead>\n",
       "    <tr style=\"text-align: right;\">\n",
       "      <th></th>\n",
       "      <th>Unique Key</th>\n",
       "      <th>Created Date</th>\n",
       "      <th>Closed Date</th>\n",
       "      <th>Agency</th>\n",
       "      <th>Agency Name</th>\n",
       "      <th>Complaint Type</th>\n",
       "      <th>Descriptor</th>\n",
       "      <th>Location Type</th>\n",
       "      <th>Incident Zip</th>\n",
       "      <th>Incident Address</th>\n",
       "      <th>...</th>\n",
       "      <th>School Code</th>\n",
       "      <th>School Phone Number</th>\n",
       "      <th>School Address</th>\n",
       "      <th>School City</th>\n",
       "      <th>School State</th>\n",
       "      <th>School Zip</th>\n",
       "      <th>School Not Found</th>\n",
       "      <th>Latitude</th>\n",
       "      <th>Longitude</th>\n",
       "      <th>Location</th>\n",
       "    </tr>\n",
       "  </thead>\n",
       "  <tbody>\n",
       "    <tr>\n",
       "      <th>0</th>\n",
       "      <td>29607578</td>\n",
       "      <td>1/1/2015 1:39</td>\n",
       "      <td>1/1/2015 3:48</td>\n",
       "      <td>NYPD</td>\n",
       "      <td>New York City Police Department</td>\n",
       "      <td>Noise - Residential</td>\n",
       "      <td>Loud Music/Party</td>\n",
       "      <td>Residential Building/House</td>\n",
       "      <td>10452.0</td>\n",
       "      <td>930 OGDEN AVENUE</td>\n",
       "      <td>...</td>\n",
       "      <td>Unspecified</td>\n",
       "      <td>Unspecified</td>\n",
       "      <td>Unspecified</td>\n",
       "      <td>Unspecified</td>\n",
       "      <td>Unspecified</td>\n",
       "      <td>Unspecified</td>\n",
       "      <td>N</td>\n",
       "      <td>40.831196</td>\n",
       "      <td>-73.930349</td>\n",
       "      <td>(40.831195901208176, -73.93034856129522)</td>\n",
       "    </tr>\n",
       "    <tr>\n",
       "      <th>1</th>\n",
       "      <td>29607583</td>\n",
       "      <td>1/1/2015 2:07</td>\n",
       "      <td>1/1/2015 7:30</td>\n",
       "      <td>NYPD</td>\n",
       "      <td>New York City Police Department</td>\n",
       "      <td>Noise - Residential</td>\n",
       "      <td>Loud Music/Party</td>\n",
       "      <td>Residential Building/House</td>\n",
       "      <td>10465.0</td>\n",
       "      <td>555 CALHOUN AVENUE</td>\n",
       "      <td>...</td>\n",
       "      <td>Unspecified</td>\n",
       "      <td>Unspecified</td>\n",
       "      <td>Unspecified</td>\n",
       "      <td>Unspecified</td>\n",
       "      <td>Unspecified</td>\n",
       "      <td>Unspecified</td>\n",
       "      <td>N</td>\n",
       "      <td>40.822870</td>\n",
       "      <td>-73.821971</td>\n",
       "      <td>(40.82287006360793, -73.82197105362941)</td>\n",
       "    </tr>\n",
       "    <tr>\n",
       "      <th>2</th>\n",
       "      <td>29607586</td>\n",
       "      <td>1/1/2015 2:10</td>\n",
       "      <td>1/1/2015 4:54</td>\n",
       "      <td>NYPD</td>\n",
       "      <td>New York City Police Department</td>\n",
       "      <td>Noise - Residential</td>\n",
       "      <td>Loud Music/Party</td>\n",
       "      <td>Residential Building/House</td>\n",
       "      <td>10474.0</td>\n",
       "      <td>770 BRYANT AVENUE</td>\n",
       "      <td>...</td>\n",
       "      <td>Unspecified</td>\n",
       "      <td>Unspecified</td>\n",
       "      <td>Unspecified</td>\n",
       "      <td>Unspecified</td>\n",
       "      <td>Unspecified</td>\n",
       "      <td>Unspecified</td>\n",
       "      <td>N</td>\n",
       "      <td>40.816130</td>\n",
       "      <td>-73.885942</td>\n",
       "      <td>(40.81613045265912, -73.88594198876609)</td>\n",
       "    </tr>\n",
       "    <tr>\n",
       "      <th>3</th>\n",
       "      <td>29607587</td>\n",
       "      <td>1/1/2015 0:19</td>\n",
       "      <td>1/1/2015 0:41</td>\n",
       "      <td>NYPD</td>\n",
       "      <td>New York City Police Department</td>\n",
       "      <td>Noise - Residential</td>\n",
       "      <td>Loud Talking</td>\n",
       "      <td>Residential Building/House</td>\n",
       "      <td>10468.0</td>\n",
       "      <td>2337 GRAND CONCOURSE</td>\n",
       "      <td>...</td>\n",
       "      <td>Unspecified</td>\n",
       "      <td>Unspecified</td>\n",
       "      <td>Unspecified</td>\n",
       "      <td>Unspecified</td>\n",
       "      <td>Unspecified</td>\n",
       "      <td>Unspecified</td>\n",
       "      <td>N</td>\n",
       "      <td>40.858406</td>\n",
       "      <td>-73.899386</td>\n",
       "      <td>(40.85840604170503, -73.89938613893433)</td>\n",
       "    </tr>\n",
       "    <tr>\n",
       "      <th>4</th>\n",
       "      <td>29607589</td>\n",
       "      <td>1/1/2015 0:01</td>\n",
       "      <td>1/1/2015 0:20</td>\n",
       "      <td>NYPD</td>\n",
       "      <td>New York City Police Department</td>\n",
       "      <td>Noise - Street/Sidewalk</td>\n",
       "      <td>Loud Music/Party</td>\n",
       "      <td>Street/Sidewalk</td>\n",
       "      <td>10031.0</td>\n",
       "      <td>508 WEST 139 STREET</td>\n",
       "      <td>...</td>\n",
       "      <td>Unspecified</td>\n",
       "      <td>Unspecified</td>\n",
       "      <td>Unspecified</td>\n",
       "      <td>Unspecified</td>\n",
       "      <td>Unspecified</td>\n",
       "      <td>Unspecified</td>\n",
       "      <td>N</td>\n",
       "      <td>40.821647</td>\n",
       "      <td>-73.950873</td>\n",
       "      <td>(40.821646626438095, -73.95087342885292)</td>\n",
       "    </tr>\n",
       "  </tbody>\n",
       "</table>\n",
       "<p>5 rows × 42 columns</p>\n",
       "</div>"
      ],
      "text/plain": [
       "   Unique Key   Created Date    Closed Date Agency  \\\n",
       "0    29607578  1/1/2015 1:39  1/1/2015 3:48   NYPD   \n",
       "1    29607583  1/1/2015 2:07  1/1/2015 7:30   NYPD   \n",
       "2    29607586  1/1/2015 2:10  1/1/2015 4:54   NYPD   \n",
       "3    29607587  1/1/2015 0:19  1/1/2015 0:41   NYPD   \n",
       "4    29607589  1/1/2015 0:01  1/1/2015 0:20   NYPD   \n",
       "\n",
       "                       Agency Name           Complaint Type        Descriptor  \\\n",
       "0  New York City Police Department      Noise - Residential  Loud Music/Party   \n",
       "1  New York City Police Department      Noise - Residential  Loud Music/Party   \n",
       "2  New York City Police Department      Noise - Residential  Loud Music/Party   \n",
       "3  New York City Police Department      Noise - Residential      Loud Talking   \n",
       "4  New York City Police Department  Noise - Street/Sidewalk  Loud Music/Party   \n",
       "\n",
       "                Location Type  Incident Zip      Incident Address  \\\n",
       "0  Residential Building/House       10452.0      930 OGDEN AVENUE   \n",
       "1  Residential Building/House       10465.0    555 CALHOUN AVENUE   \n",
       "2  Residential Building/House       10474.0     770 BRYANT AVENUE   \n",
       "3  Residential Building/House       10468.0  2337 GRAND CONCOURSE   \n",
       "4             Street/Sidewalk       10031.0   508 WEST 139 STREET   \n",
       "\n",
       "                     ...                     School Code School Phone Number  \\\n",
       "0                    ...                     Unspecified         Unspecified   \n",
       "1                    ...                     Unspecified         Unspecified   \n",
       "2                    ...                     Unspecified         Unspecified   \n",
       "3                    ...                     Unspecified         Unspecified   \n",
       "4                    ...                     Unspecified         Unspecified   \n",
       "\n",
       "  School Address  School City School State   School Zip School Not Found  \\\n",
       "0    Unspecified  Unspecified  Unspecified  Unspecified                N   \n",
       "1    Unspecified  Unspecified  Unspecified  Unspecified                N   \n",
       "2    Unspecified  Unspecified  Unspecified  Unspecified                N   \n",
       "3    Unspecified  Unspecified  Unspecified  Unspecified                N   \n",
       "4    Unspecified  Unspecified  Unspecified  Unspecified                N   \n",
       "\n",
       "    Latitude  Longitude                                  Location  \n",
       "0  40.831196 -73.930349  (40.831195901208176, -73.93034856129522)  \n",
       "1  40.822870 -73.821971   (40.82287006360793, -73.82197105362941)  \n",
       "2  40.816130 -73.885942   (40.81613045265912, -73.88594198876609)  \n",
       "3  40.858406 -73.899386   (40.85840604170503, -73.89938613893433)  \n",
       "4  40.821647 -73.950873  (40.821646626438095, -73.95087342885292)  \n",
       "\n",
       "[5 rows x 42 columns]"
      ]
     },
     "execution_count": 4,
     "metadata": {},
     "output_type": "execute_result"
    }
   ],
   "source": [
    "tables=tables.dropna(axis=1, how='all') #  dropping columns which has only Nan values\n",
    "tables.head()"
   ]
  },
  {
   "cell_type": "code",
   "execution_count": 5,
   "metadata": {},
   "outputs": [
    {
     "data": {
      "text/plain": [
       "(338746, 42)"
      ]
     },
     "execution_count": 5,
     "metadata": {},
     "output_type": "execute_result"
    }
   ],
   "source": [
    "tables.shape"
   ]
  },
  {
   "cell_type": "markdown",
   "metadata": {},
   "source": [
    "11 columns are dropped from our data. Let's proceed to Step 2"
   ]
  },
  {
   "cell_type": "markdown",
   "metadata": {},
   "source": [
    "# Step 2:\n",
    "Dropping those columns which are 'UnSpecified'"
   ]
  },
  {
   "cell_type": "code",
   "execution_count": 6,
   "metadata": {},
   "outputs": [
    {
     "data": {
      "text/html": [
       "<div>\n",
       "<style>\n",
       "    .dataframe thead tr:only-child th {\n",
       "        text-align: right;\n",
       "    }\n",
       "\n",
       "    .dataframe thead th {\n",
       "        text-align: left;\n",
       "    }\n",
       "\n",
       "    .dataframe tbody tr th {\n",
       "        vertical-align: top;\n",
       "    }\n",
       "</style>\n",
       "<table border=\"1\" class=\"dataframe\">\n",
       "  <thead>\n",
       "    <tr style=\"text-align: right;\">\n",
       "      <th></th>\n",
       "      <th>Unique Key</th>\n",
       "      <th>Created Date</th>\n",
       "      <th>Closed Date</th>\n",
       "      <th>Agency</th>\n",
       "      <th>Agency Name</th>\n",
       "      <th>Complaint Type</th>\n",
       "      <th>Descriptor</th>\n",
       "      <th>Location Type</th>\n",
       "      <th>Incident Zip</th>\n",
       "      <th>Incident Address</th>\n",
       "      <th>...</th>\n",
       "      <th>Resolution Description</th>\n",
       "      <th>Resolution Action Updated Date</th>\n",
       "      <th>Community Board</th>\n",
       "      <th>Borough</th>\n",
       "      <th>X Coordinate (State Plane)</th>\n",
       "      <th>Y Coordinate (State Plane)</th>\n",
       "      <th>Park Borough</th>\n",
       "      <th>Latitude</th>\n",
       "      <th>Longitude</th>\n",
       "      <th>Location</th>\n",
       "    </tr>\n",
       "  </thead>\n",
       "  <tbody>\n",
       "    <tr>\n",
       "      <th>0</th>\n",
       "      <td>29607578</td>\n",
       "      <td>1/1/2015 1:39</td>\n",
       "      <td>1/1/2015 3:48</td>\n",
       "      <td>NYPD</td>\n",
       "      <td>New York City Police Department</td>\n",
       "      <td>Noise - Residential</td>\n",
       "      <td>Loud Music/Party</td>\n",
       "      <td>Residential Building/House</td>\n",
       "      <td>10452.0</td>\n",
       "      <td>930 OGDEN AVENUE</td>\n",
       "      <td>...</td>\n",
       "      <td>The Police Department responded to the complai...</td>\n",
       "      <td>1/1/2015 3:48</td>\n",
       "      <td>04 BRONX</td>\n",
       "      <td>BRONX</td>\n",
       "      <td>1,003,525</td>\n",
       "      <td>242,112</td>\n",
       "      <td>BRONX</td>\n",
       "      <td>40.831196</td>\n",
       "      <td>-73.930349</td>\n",
       "      <td>(40.831195901208176, -73.93034856129522)</td>\n",
       "    </tr>\n",
       "    <tr>\n",
       "      <th>1</th>\n",
       "      <td>29607583</td>\n",
       "      <td>1/1/2015 2:07</td>\n",
       "      <td>1/1/2015 7:30</td>\n",
       "      <td>NYPD</td>\n",
       "      <td>New York City Police Department</td>\n",
       "      <td>Noise - Residential</td>\n",
       "      <td>Loud Music/Party</td>\n",
       "      <td>Residential Building/House</td>\n",
       "      <td>10465.0</td>\n",
       "      <td>555 CALHOUN AVENUE</td>\n",
       "      <td>...</td>\n",
       "      <td>The Police Department responded to the complai...</td>\n",
       "      <td>1/1/2015 7:30</td>\n",
       "      <td>10 BRONX</td>\n",
       "      <td>BRONX</td>\n",
       "      <td>1,033,523</td>\n",
       "      <td>239,121</td>\n",
       "      <td>BRONX</td>\n",
       "      <td>40.822870</td>\n",
       "      <td>-73.821971</td>\n",
       "      <td>(40.82287006360793, -73.82197105362941)</td>\n",
       "    </tr>\n",
       "    <tr>\n",
       "      <th>2</th>\n",
       "      <td>29607586</td>\n",
       "      <td>1/1/2015 2:10</td>\n",
       "      <td>1/1/2015 4:54</td>\n",
       "      <td>NYPD</td>\n",
       "      <td>New York City Police Department</td>\n",
       "      <td>Noise - Residential</td>\n",
       "      <td>Loud Music/Party</td>\n",
       "      <td>Residential Building/House</td>\n",
       "      <td>10474.0</td>\n",
       "      <td>770 BRYANT AVENUE</td>\n",
       "      <td>...</td>\n",
       "      <td>The Police Department responded to the complai...</td>\n",
       "      <td>1/1/2015 4:54</td>\n",
       "      <td>02 BRONX</td>\n",
       "      <td>BRONX</td>\n",
       "      <td>1,015,821</td>\n",
       "      <td>236,636</td>\n",
       "      <td>BRONX</td>\n",
       "      <td>40.816130</td>\n",
       "      <td>-73.885942</td>\n",
       "      <td>(40.81613045265912, -73.88594198876609)</td>\n",
       "    </tr>\n",
       "    <tr>\n",
       "      <th>3</th>\n",
       "      <td>29607587</td>\n",
       "      <td>1/1/2015 0:19</td>\n",
       "      <td>1/1/2015 0:41</td>\n",
       "      <td>NYPD</td>\n",
       "      <td>New York City Police Department</td>\n",
       "      <td>Noise - Residential</td>\n",
       "      <td>Loud Talking</td>\n",
       "      <td>Residential Building/House</td>\n",
       "      <td>10468.0</td>\n",
       "      <td>2337 GRAND CONCOURSE</td>\n",
       "      <td>...</td>\n",
       "      <td>The Police Department responded to the complai...</td>\n",
       "      <td>1/1/2015 0:40</td>\n",
       "      <td>05 BRONX</td>\n",
       "      <td>BRONX</td>\n",
       "      <td>1,012,082</td>\n",
       "      <td>252,034</td>\n",
       "      <td>BRONX</td>\n",
       "      <td>40.858406</td>\n",
       "      <td>-73.899386</td>\n",
       "      <td>(40.85840604170503, -73.89938613893433)</td>\n",
       "    </tr>\n",
       "    <tr>\n",
       "      <th>4</th>\n",
       "      <td>29607589</td>\n",
       "      <td>1/1/2015 0:01</td>\n",
       "      <td>1/1/2015 0:20</td>\n",
       "      <td>NYPD</td>\n",
       "      <td>New York City Police Department</td>\n",
       "      <td>Noise - Street/Sidewalk</td>\n",
       "      <td>Loud Music/Party</td>\n",
       "      <td>Street/Sidewalk</td>\n",
       "      <td>10031.0</td>\n",
       "      <td>508 WEST 139 STREET</td>\n",
       "      <td>...</td>\n",
       "      <td>The Police Department responded to the complai...</td>\n",
       "      <td>1/1/2015 0:20</td>\n",
       "      <td>09 MANHATTAN</td>\n",
       "      <td>MANHATTAN</td>\n",
       "      <td>997,847</td>\n",
       "      <td>238,629</td>\n",
       "      <td>MANHATTAN</td>\n",
       "      <td>40.821647</td>\n",
       "      <td>-73.950873</td>\n",
       "      <td>(40.821646626438095, -73.95087342885292)</td>\n",
       "    </tr>\n",
       "  </tbody>\n",
       "</table>\n",
       "<p>5 rows × 31 columns</p>\n",
       "</div>"
      ],
      "text/plain": [
       "   Unique Key   Created Date    Closed Date Agency  \\\n",
       "0    29607578  1/1/2015 1:39  1/1/2015 3:48   NYPD   \n",
       "1    29607583  1/1/2015 2:07  1/1/2015 7:30   NYPD   \n",
       "2    29607586  1/1/2015 2:10  1/1/2015 4:54   NYPD   \n",
       "3    29607587  1/1/2015 0:19  1/1/2015 0:41   NYPD   \n",
       "4    29607589  1/1/2015 0:01  1/1/2015 0:20   NYPD   \n",
       "\n",
       "                       Agency Name           Complaint Type        Descriptor  \\\n",
       "0  New York City Police Department      Noise - Residential  Loud Music/Party   \n",
       "1  New York City Police Department      Noise - Residential  Loud Music/Party   \n",
       "2  New York City Police Department      Noise - Residential  Loud Music/Party   \n",
       "3  New York City Police Department      Noise - Residential      Loud Talking   \n",
       "4  New York City Police Department  Noise - Street/Sidewalk  Loud Music/Party   \n",
       "\n",
       "                Location Type  Incident Zip      Incident Address  \\\n",
       "0  Residential Building/House       10452.0      930 OGDEN AVENUE   \n",
       "1  Residential Building/House       10465.0    555 CALHOUN AVENUE   \n",
       "2  Residential Building/House       10474.0     770 BRYANT AVENUE   \n",
       "3  Residential Building/House       10468.0  2337 GRAND CONCOURSE   \n",
       "4             Street/Sidewalk       10031.0   508 WEST 139 STREET   \n",
       "\n",
       "                     ...                     \\\n",
       "0                    ...                      \n",
       "1                    ...                      \n",
       "2                    ...                      \n",
       "3                    ...                      \n",
       "4                    ...                      \n",
       "\n",
       "                              Resolution Description  \\\n",
       "0  The Police Department responded to the complai...   \n",
       "1  The Police Department responded to the complai...   \n",
       "2  The Police Department responded to the complai...   \n",
       "3  The Police Department responded to the complai...   \n",
       "4  The Police Department responded to the complai...   \n",
       "\n",
       "  Resolution Action Updated Date Community Board    Borough  \\\n",
       "0                  1/1/2015 3:48        04 BRONX      BRONX   \n",
       "1                  1/1/2015 7:30        10 BRONX      BRONX   \n",
       "2                  1/1/2015 4:54        02 BRONX      BRONX   \n",
       "3                  1/1/2015 0:40        05 BRONX      BRONX   \n",
       "4                  1/1/2015 0:20    09 MANHATTAN  MANHATTAN   \n",
       "\n",
       "  X Coordinate (State Plane) Y Coordinate (State Plane) Park Borough  \\\n",
       "0                  1,003,525                    242,112        BRONX   \n",
       "1                  1,033,523                    239,121        BRONX   \n",
       "2                  1,015,821                    236,636        BRONX   \n",
       "3                  1,012,082                    252,034        BRONX   \n",
       "4                    997,847                    238,629    MANHATTAN   \n",
       "\n",
       "    Latitude  Longitude                                  Location  \n",
       "0  40.831196 -73.930349  (40.831195901208176, -73.93034856129522)  \n",
       "1  40.822870 -73.821971   (40.82287006360793, -73.82197105362941)  \n",
       "2  40.816130 -73.885942   (40.81613045265912, -73.88594198876609)  \n",
       "3  40.858406 -73.899386   (40.85840604170503, -73.89938613893433)  \n",
       "4  40.821647 -73.950873  (40.821646626438095, -73.95087342885292)  \n",
       "\n",
       "[5 rows x 31 columns]"
      ]
     },
     "execution_count": 6,
     "metadata": {},
     "output_type": "execute_result"
    }
   ],
   "source": [
    "tables.drop(tables.columns[29:39],axis=1,inplace=True) # This will delete all the column from index 29 till 38\n",
    "tables.drop(['Park Facility Name'],axis=1,inplace=True)\n",
    "tables.head()"
   ]
  },
  {
   "cell_type": "markdown",
   "metadata": {},
   "source": [
    "So far, we have removed all the data which is blank or null.\n",
    "From 53 columns ,we have removed 22 columns so far from our dataset"
   ]
  },
  {
   "cell_type": "markdown",
   "metadata": {},
   "source": [
    "# Step 3:\n",
    "\n",
    "Modify the column names to make our lives simpler"
   ]
  },
  {
   "cell_type": "code",
   "execution_count": 7,
   "metadata": {
    "collapsed": true
   },
   "outputs": [],
   "source": [
    "tables.rename(columns={'Unique Key': 'Unique_Key'}, inplace=True)\n",
    "tables.rename(columns={'Complaint Type': 'Complaint_Type'}, inplace=True)\n",
    "tables.rename(columns={'Location Type': 'Location_Type'}, inplace=True)\n",
    "\n",
    "# We will work on mostly these column for our Analysis"
   ]
  },
  {
   "cell_type": "markdown",
   "metadata": {},
   "source": [
    "# Exploratory Data Analysis"
   ]
  },
  {
   "cell_type": "code",
   "execution_count": 8,
   "metadata": {
    "collapsed": true
   },
   "outputs": [],
   "source": [
    "# Step 1:\n",
    "\n",
    "tables['Year_Date'] = pd.to_datetime(tables['Created Date'])\n",
    "tables['Year']=(tables['Year_Date']).dt.year\n",
    "tables['Hour'] = pd.to_datetime(tables['Created Date']).dt.hour\n",
    "tables['Created Date'] = pd.to_datetime(tables['Created Date']).dt.date\n",
    "tables['Closed Date'] = pd.to_datetime(tables['Closed Date']).dt.date\n",
    "tables['Due Date'] = pd.to_datetime(tables['Due Date']).dt.date\n",
    "tables['Resolution Action Updated Date']=pd.to_datetime(tables['Resolution Action Updated Date']).dt.date"
   ]
  },
  {
   "cell_type": "code",
   "execution_count": 9,
   "metadata": {
    "collapsed": true
   },
   "outputs": [],
   "source": [
    "# Creating Resolution Time variable\n",
    "tables['Resolution_Time']=(tables['Closed Date']- tables['Created Date']).dt.days\n",
    "tables['Resolution_Time'] = tables['Resolution_Time'].fillna(0) # replacing blank values with 0"
   ]
  },
  {
   "cell_type": "code",
   "execution_count": 10,
   "metadata": {},
   "outputs": [
    {
     "data": {
      "text/html": [
       "<div>\n",
       "<style>\n",
       "    .dataframe thead tr:only-child th {\n",
       "        text-align: right;\n",
       "    }\n",
       "\n",
       "    .dataframe thead th {\n",
       "        text-align: left;\n",
       "    }\n",
       "\n",
       "    .dataframe tbody tr th {\n",
       "        vertical-align: top;\n",
       "    }\n",
       "</style>\n",
       "<table border=\"1\" class=\"dataframe\">\n",
       "  <thead>\n",
       "    <tr style=\"text-align: right;\">\n",
       "      <th></th>\n",
       "      <th>Unique_Key</th>\n",
       "      <th>Created Date</th>\n",
       "      <th>Closed Date</th>\n",
       "      <th>Agency</th>\n",
       "      <th>Agency Name</th>\n",
       "      <th>Complaint_Type</th>\n",
       "      <th>Descriptor</th>\n",
       "      <th>Location_Type</th>\n",
       "      <th>Incident Zip</th>\n",
       "      <th>Incident Address</th>\n",
       "      <th>...</th>\n",
       "      <th>X Coordinate (State Plane)</th>\n",
       "      <th>Y Coordinate (State Plane)</th>\n",
       "      <th>Park Borough</th>\n",
       "      <th>Latitude</th>\n",
       "      <th>Longitude</th>\n",
       "      <th>Location</th>\n",
       "      <th>Year_Date</th>\n",
       "      <th>Year</th>\n",
       "      <th>Hour</th>\n",
       "      <th>Resolution_Time</th>\n",
       "    </tr>\n",
       "  </thead>\n",
       "  <tbody>\n",
       "    <tr>\n",
       "      <th>0</th>\n",
       "      <td>29607578</td>\n",
       "      <td>2015-01-01</td>\n",
       "      <td>2015-01-01</td>\n",
       "      <td>NYPD</td>\n",
       "      <td>New York City Police Department</td>\n",
       "      <td>Noise - Residential</td>\n",
       "      <td>Loud Music/Party</td>\n",
       "      <td>Residential Building/House</td>\n",
       "      <td>10452.0</td>\n",
       "      <td>930 OGDEN AVENUE</td>\n",
       "      <td>...</td>\n",
       "      <td>1,003,525</td>\n",
       "      <td>242,112</td>\n",
       "      <td>BRONX</td>\n",
       "      <td>40.831196</td>\n",
       "      <td>-73.930349</td>\n",
       "      <td>(40.831195901208176, -73.93034856129522)</td>\n",
       "      <td>2015-01-01 01:39:00</td>\n",
       "      <td>2015</td>\n",
       "      <td>1</td>\n",
       "      <td>0</td>\n",
       "    </tr>\n",
       "    <tr>\n",
       "      <th>1</th>\n",
       "      <td>29607580</td>\n",
       "      <td>2014-12-31</td>\n",
       "      <td>2015-01-01</td>\n",
       "      <td>NYPD</td>\n",
       "      <td>New York City Police Department</td>\n",
       "      <td>Noise - Street/Sidewalk</td>\n",
       "      <td>Loud Talking</td>\n",
       "      <td>Street/Sidewalk</td>\n",
       "      <td>11221.0</td>\n",
       "      <td>NaN</td>\n",
       "      <td>...</td>\n",
       "      <td>999,406</td>\n",
       "      <td>190,873</td>\n",
       "      <td>BROOKLYN</td>\n",
       "      <td>40.690566</td>\n",
       "      <td>-73.945348</td>\n",
       "      <td>(40.690566088541274, -73.94534834332518)</td>\n",
       "      <td>2014-12-31 23:34:00</td>\n",
       "      <td>2014</td>\n",
       "      <td>23</td>\n",
       "      <td>1</td>\n",
       "    </tr>\n",
       "    <tr>\n",
       "      <th>2</th>\n",
       "      <td>29607583</td>\n",
       "      <td>2015-01-01</td>\n",
       "      <td>2015-01-01</td>\n",
       "      <td>NYPD</td>\n",
       "      <td>New York City Police Department</td>\n",
       "      <td>Noise - Residential</td>\n",
       "      <td>Loud Music/Party</td>\n",
       "      <td>Residential Building/House</td>\n",
       "      <td>10465.0</td>\n",
       "      <td>555 CALHOUN AVENUE</td>\n",
       "      <td>...</td>\n",
       "      <td>1,033,523</td>\n",
       "      <td>239,121</td>\n",
       "      <td>BRONX</td>\n",
       "      <td>40.822870</td>\n",
       "      <td>-73.821971</td>\n",
       "      <td>(40.82287006360793, -73.82197105362941)</td>\n",
       "      <td>2015-01-01 02:07:00</td>\n",
       "      <td>2015</td>\n",
       "      <td>2</td>\n",
       "      <td>0</td>\n",
       "    </tr>\n",
       "    <tr>\n",
       "      <th>3</th>\n",
       "      <td>29607584</td>\n",
       "      <td>2014-12-31</td>\n",
       "      <td>2015-01-01</td>\n",
       "      <td>NYPD</td>\n",
       "      <td>New York City Police Department</td>\n",
       "      <td>Noise - Residential</td>\n",
       "      <td>Loud Music/Party</td>\n",
       "      <td>Residential Building/House</td>\n",
       "      <td>10027.0</td>\n",
       "      <td>566 WEST 126 STREET</td>\n",
       "      <td>...</td>\n",
       "      <td>996,057</td>\n",
       "      <td>236,579</td>\n",
       "      <td>MANHATTAN</td>\n",
       "      <td>40.816023</td>\n",
       "      <td>-73.957344</td>\n",
       "      <td>(40.816022527973146, -73.9573443848017)</td>\n",
       "      <td>2014-12-31 23:30:00</td>\n",
       "      <td>2014</td>\n",
       "      <td>23</td>\n",
       "      <td>1</td>\n",
       "    </tr>\n",
       "    <tr>\n",
       "      <th>4</th>\n",
       "      <td>29607585</td>\n",
       "      <td>2014-12-31</td>\n",
       "      <td>2015-01-01</td>\n",
       "      <td>NYPD</td>\n",
       "      <td>New York City Police Department</td>\n",
       "      <td>Noise - Residential</td>\n",
       "      <td>Loud Music/Party</td>\n",
       "      <td>Residential Building/House</td>\n",
       "      <td>10451.0</td>\n",
       "      <td>740 GRAND CONCOURSE</td>\n",
       "      <td>...</td>\n",
       "      <td>1,005,107</td>\n",
       "      <td>239,099</td>\n",
       "      <td>BRONX</td>\n",
       "      <td>40.822922</td>\n",
       "      <td>-73.924641</td>\n",
       "      <td>(40.822922484155754, -73.92464127288046)</td>\n",
       "      <td>2014-12-31 23:00:00</td>\n",
       "      <td>2014</td>\n",
       "      <td>23</td>\n",
       "      <td>1</td>\n",
       "    </tr>\n",
       "  </tbody>\n",
       "</table>\n",
       "<p>5 rows × 35 columns</p>\n",
       "</div>"
      ],
      "text/plain": [
       "   Unique_Key Created Date Closed Date Agency  \\\n",
       "0    29607578   2015-01-01  2015-01-01   NYPD   \n",
       "1    29607580   2014-12-31  2015-01-01   NYPD   \n",
       "2    29607583   2015-01-01  2015-01-01   NYPD   \n",
       "3    29607584   2014-12-31  2015-01-01   NYPD   \n",
       "4    29607585   2014-12-31  2015-01-01   NYPD   \n",
       "\n",
       "                       Agency Name           Complaint_Type        Descriptor  \\\n",
       "0  New York City Police Department      Noise - Residential  Loud Music/Party   \n",
       "1  New York City Police Department  Noise - Street/Sidewalk      Loud Talking   \n",
       "2  New York City Police Department      Noise - Residential  Loud Music/Party   \n",
       "3  New York City Police Department      Noise - Residential  Loud Music/Party   \n",
       "4  New York City Police Department      Noise - Residential  Loud Music/Party   \n",
       "\n",
       "                Location_Type  Incident Zip     Incident Address  \\\n",
       "0  Residential Building/House       10452.0     930 OGDEN AVENUE   \n",
       "1             Street/Sidewalk       11221.0                  NaN   \n",
       "2  Residential Building/House       10465.0   555 CALHOUN AVENUE   \n",
       "3  Residential Building/House       10027.0  566 WEST 126 STREET   \n",
       "4  Residential Building/House       10451.0  740 GRAND CONCOURSE   \n",
       "\n",
       "        ...       X Coordinate (State Plane) Y Coordinate (State Plane)  \\\n",
       "0       ...                        1,003,525                    242,112   \n",
       "1       ...                          999,406                    190,873   \n",
       "2       ...                        1,033,523                    239,121   \n",
       "3       ...                          996,057                    236,579   \n",
       "4       ...                        1,005,107                    239,099   \n",
       "\n",
       "  Park Borough   Latitude  Longitude  \\\n",
       "0        BRONX  40.831196 -73.930349   \n",
       "1     BROOKLYN  40.690566 -73.945348   \n",
       "2        BRONX  40.822870 -73.821971   \n",
       "3    MANHATTAN  40.816023 -73.957344   \n",
       "4        BRONX  40.822922 -73.924641   \n",
       "\n",
       "                                   Location           Year_Date  Year Hour  \\\n",
       "0  (40.831195901208176, -73.93034856129522) 2015-01-01 01:39:00  2015    1   \n",
       "1  (40.690566088541274, -73.94534834332518) 2014-12-31 23:34:00  2014   23   \n",
       "2   (40.82287006360793, -73.82197105362941) 2015-01-01 02:07:00  2015    2   \n",
       "3   (40.816022527973146, -73.9573443848017) 2014-12-31 23:30:00  2014   23   \n",
       "4  (40.822922484155754, -73.92464127288046) 2014-12-31 23:00:00  2014   23   \n",
       "\n",
       "  Resolution_Time  \n",
       "0               0  \n",
       "1               1  \n",
       "2               0  \n",
       "3               1  \n",
       "4               1  \n",
       "\n",
       "[5 rows x 35 columns]"
      ]
     },
     "execution_count": 10,
     "metadata": {},
     "output_type": "execute_result"
    }
   ],
   "source": [
    "tables.head()"
   ]
  },
  {
   "cell_type": "markdown",
   "metadata": {},
   "source": [
    "\n",
    "# Problem Statement for our project\n",
    ">- What are the factors that affects the resolution time for a complaint?\n",
    "\n",
    "\n"
   ]
  },
  {
   "cell_type": "markdown",
   "metadata": {},
   "source": [
    "# Outlier Analysis"
   ]
  },
  {
   "cell_type": "code",
   "execution_count": 10,
   "metadata": {},
   "outputs": [
    {
     "data": {
      "text/plain": [
       "<matplotlib.axes._subplots.AxesSubplot at 0x1d307cc0>"
      ]
     },
     "execution_count": 10,
     "metadata": {},
     "output_type": "execute_result"
    },
    {
     "data": {
      "image/png": "[encoded data removed]",
      "text/plain": [
       "<matplotlib.figure.Figure at 0x759c5c0>"
      ]
     },
     "metadata": {},
     "output_type": "display_data"
    }
   ],
   "source": [
    "fig, ax = plt.subplots(figsize=(20, 8))\n",
    "sns.boxplot(x=\"Agency\", y=\"Resolution_Time\", data=tables, palette=\"PRGn\")\n",
    "# Below Boxplot confirms that DEP takes maximum time to resolve issues amongst others"
   ]
  },
  {
   "cell_type": "code",
   "execution_count": 11,
   "metadata": {},
   "outputs": [
    {
     "data": {
      "text/plain": [
       "<matplotlib.text.Text at 0xc8b5748>"
      ]
     },
     "execution_count": 11,
     "metadata": {},
     "output_type": "execute_result"
    },
    {
     "data": {
      "image/png": "[encoded data removed]",
      "text/plain": [
       "<matplotlib.figure.Figure at 0x1d23ab38>"
      ]
     },
     "metadata": {},
     "output_type": "display_data"
    }
   ],
   "source": [
    "import scipy.stats as stats\n",
    "import pylab\n",
    "#measurements = np.random.normal(loc = 20, scale = 5, size=100)   \n",
    "#stats.probplot(tables, dist=\"norm\", plot=pylab)\n",
    "#plt.title(\"PriceAverage Growing Season Temp of Bordeaux wine bottles\")\n",
    "\n",
    "#plt.grid(True)\n",
    "plt.show()\n",
    "plt.scatter(tables['Hour'],tables['Resolution_Time'])\n",
    "plt.xlabel(\"Resolution time\")\n",
    "plt.ylabel(\"Hour of complaint\")"
   ]
  },
  {
   "cell_type": "code",
   "execution_count": 10,
   "metadata": {
    "collapsed": true
   },
   "outputs": [],
   "source": [
    "tables = tables[tables.Resolution_Time != 247]\n",
    "tables = tables[tables.Resolution_Time != 238]\n",
    "tables = tables[tables.Resolution_Time != 248]"
   ]
  },
  {
   "cell_type": "code",
   "execution_count": 13,
   "metadata": {},
   "outputs": [
    {
     "data": {
      "text/plain": [
       "<matplotlib.axes._subplots.AxesSubplot at 0xc8c15f8>"
      ]
     },
     "execution_count": 13,
     "metadata": {},
     "output_type": "execute_result"
    },
    {
     "data": {
      "image/png": "[encoded data removed]",
      "text/plain": [
       "<matplotlib.figure.Figure at 0xc8d5518>"
      ]
     },
     "metadata": {},
     "output_type": "display_data"
    }
   ],
   "source": [
    "fig, ax = plt.subplots(figsize=(20, 8))\n",
    "sns.boxplot(x=\"Agency\", y=\"Resolution_Time\", data=tables, palette=\"PRGn\")\n",
    "# Below Boxplot confirms that DEP takes maximum time to resolve issues amongst others"
   ]
  },
  {
   "cell_type": "code",
   "execution_count": 14,
   "metadata": {},
   "outputs": [
    {
     "data": {
      "text/plain": [
       "<matplotlib.axes._subplots.AxesSubplot at 0xc454198>"
      ]
     },
     "execution_count": 14,
     "metadata": {},
     "output_type": "execute_result"
    },
    {
     "data": {
      "image/png": "[encoded data removed]",
      "text/plain": [
       "<matplotlib.figure.Figure at 0xc93b4e0>"
      ]
     },
     "metadata": {},
     "output_type": "display_data"
    }
   ],
   "source": [
    "# Distinct plot of resolution timesns.kdeplot(Data['Resolution_Time'],shade=True)\n",
    "fig, ax = plt.subplots(figsize=(12, 6))\n",
    "sns.distplot(tables['Resolution_Time'],bins=20,hist=False)"
   ]
  },
  {
   "cell_type": "code",
   "execution_count": 15,
   "metadata": {},
   "outputs": [
    {
     "data": {
      "text/plain": [
       "<matplotlib.axes._subplots.AxesSubplot at 0xc4d7eb8>"
      ]
     },
     "execution_count": 15,
     "metadata": {},
     "output_type": "execute_result"
    },
    {
     "data": {
      "image/png": "[encoded data removed]",
      "text/plain": [
       "<matplotlib.figure.Figure at 0xc4f7438>"
      ]
     },
     "metadata": {},
     "output_type": "display_data"
    }
   ],
   "source": [
    "fig, ax = plt.subplots(figsize=(12, 6))\n",
    "sns.kdeplot(tables['Resolution_Time'],shade=True)"
   ]
  },
  {
   "cell_type": "markdown",
   "metadata": {},
   "source": [
    "# Questions to the Data\n",
    "\n",
    ">-  1. Which Agency receives the highest number of Complaints?"
   ]
  },
  {
   "cell_type": "code",
   "execution_count": null,
   "metadata": {
    "collapsed": true,
    "scrolled": true
   },
   "outputs": [],
   "source": []
  },
  {
   "cell_type": "code",
   "execution_count": 9,
   "metadata": {},
   "outputs": [
    {
     "data": {
      "image/png": "[encoded data removed]",
      "text/plain": [
       "<matplotlib.figure.Figure at 0x1c6bc828>"
      ]
     },
     "metadata": {},
     "output_type": "display_data"
    }
   ],
   "source": [
    "z=tables.groupby('Agency').Unique_Key.nunique().to_frame()\n",
    "z.reset_index(level=0, inplace=True)\n",
    "fig, ax = plt.subplots(figsize=(12, 8))\n",
    "sns.barplot(x='Agency', y= 'Unique_Key', data=z,\n",
    "            color='#4c72b0', ax=ax)\n",
    "sns.despine()"
   ]
  },
  {
   "cell_type": "code",
   "execution_count": 213,
   "metadata": {
    "collapsed": true
   },
   "outputs": [],
   "source": [
    "# NYPD receives the highest number of complaints"
   ]
  },
  {
   "cell_type": "markdown",
   "metadata": {},
   "source": [
    ">- 2.Which Agency takes the maximum time to resolve a complaint?\n"
   ]
  },
  {
   "cell_type": "code",
   "execution_count": 20,
   "metadata": {},
   "outputs": [
    {
     "data": {
      "image/png": "[encoded data removed]",
      "text/plain": [
       "<matplotlib.figure.Figure at 0xc552be0>"
      ]
     },
     "metadata": {},
     "output_type": "display_data"
    }
   ],
   "source": [
    "# Bar plot which plots resolution Time vs the Agencies\n",
    "fig, ax = plt.subplots(figsize=(12, 6))\n",
    "sns.barplot(x='Agency', y= 'Resolution_Time', data=tables,color='#4c72b0')\n",
    "sns.despine()\n",
    "# We observe that NYPD has lowest resolution time whereas EDC has highest resolution time"
   ]
  },
  {
   "cell_type": "code",
   "execution_count": 21,
   "metadata": {},
   "outputs": [
    {
     "data": {
      "image/png": "[encoded data removed]",
      "text/plain": [
       "<matplotlib.figure.Figure at 0x246b6cf8>"
      ]
     },
     "metadata": {},
     "output_type": "display_data"
    }
   ],
   "source": [
    "# This code groups by Landmark with resolution time\n",
    "# To get which landmarks took maximum resolution time\n",
    "c=tables.groupby('Agency').Descriptor.nunique().to_frame()\n",
    "c.reset_index(level=0, inplace=True) # this code resets the index to a column for our analysis\n",
    "fig, ax = plt.subplots(figsize=(12, 6))\n",
    "sns.barplot(y='Agency', x= 'Descriptor', data=c,\n",
    "            color='#4c72b0', ax=ax)\n",
    "sns.despine()"
   ]
  },
  {
   "cell_type": "code",
   "execution_count": 54,
   "metadata": {
    "collapsed": true
   },
   "outputs": [],
   "source": [
    "# DEP receives maximum different types of Complaints whereas DSNY receives the lowest"
   ]
  },
  {
   "cell_type": "markdown",
   "metadata": {},
   "source": [
    ">- 3.Which type of complaints are reported and what are their counts?"
   ]
  },
  {
   "cell_type": "code",
   "execution_count": 22,
   "metadata": {},
   "outputs": [
    {
     "data": {
      "text/plain": [
       "<matplotlib.axes._subplots.AxesSubplot at 0x247cd8d0>"
      ]
     },
     "execution_count": 22,
     "metadata": {},
     "output_type": "execute_result"
    },
    {
     "data": {
      "image/png": "[encoded data removed]",
      "text/plain": [
       "<matplotlib.figure.Figure at 0x247927b8>"
      ]
     },
     "metadata": {},
     "output_type": "display_data"
    }
   ],
   "source": [
    "fig, ax = plt.subplots(figsize=(20, 8))\n",
    "sns.countplot('Complaint_Type',data=tables)"
   ]
  },
  {
   "cell_type": "markdown",
   "metadata": {},
   "source": [
    ">- We also analysed which day of the week, which time of the day, causes more noise complaints..."
   ]
  },
  {
   "cell_type": "code",
   "execution_count": 23,
   "metadata": {},
   "outputs": [
    {
     "data": {
      "text/plain": [
       "<matplotlib.axes._subplots.AxesSubplot at 0xf08def0>"
      ]
     },
     "execution_count": 23,
     "metadata": {},
     "output_type": "execute_result"
    },
    {
     "data": {
      "image/png": "[encoded data removed]",
      "text/plain": [
       "<matplotlib.figure.Figure at 0xc3a9fd0>"
      ]
     },
     "metadata": {},
     "output_type": "display_data"
    }
   ],
   "source": [
    "tables['Created Date'] = pd.to_datetime(tables['Created Date'])\n",
    "tables['day_of_week'] = tables['Created Date'].dt.weekday_name\n",
    "fig, ax = plt.subplots(figsize=(12, 6))\n",
    "sns.countplot(y='day_of_week',data=tables)"
   ]
  },
  {
   "cell_type": "code",
   "execution_count": 24,
   "metadata": {
    "collapsed": true
   },
   "outputs": [],
   "source": [
    "tables.loc[(tables.Hour <= 3) | (tables['Hour']>=23), 'Time_of_Day' ] = 'Late Night'\n",
    "tables.loc[(tables.Hour <= 6) & (tables['Hour']>3), 'Time_of_Day' ] = 'Early Morning'\n",
    "tables.loc[(tables.Hour > 6) & (tables['Hour']<=12), 'Time_of_Day' ] = 'Morning'\n",
    "tables.loc[(tables.Hour > 12) & (tables['Hour']<=16), 'Time_of_Day' ] = 'Afternoon'\n",
    "tables.loc[(tables.Hour > 16) & (tables['Hour']<=19), 'Time_of_Day' ] = 'Evening'\n",
    "tables.loc[(tables.Hour >19) & (tables['Hour']<=22), 'Time_of_Day' ] = 'Night'"
   ]
  },
  {
   "cell_type": "code",
   "execution_count": 60,
   "metadata": {},
   "outputs": [
    {
     "data": {
      "text/plain": [
       "23"
      ]
     },
     "execution_count": 60,
     "metadata": {},
     "output_type": "execute_result"
    }
   ],
   "source": [
    "max(tables['Hour'])"
   ]
  },
  {
   "cell_type": "code",
   "execution_count": 25,
   "metadata": {},
   "outputs": [
    {
     "data": {
      "text/plain": [
       "<matplotlib.axes._subplots.AxesSubplot at 0xc9ff4e0>"
      ]
     },
     "execution_count": 25,
     "metadata": {},
     "output_type": "execute_result"
    },
    {
     "data": {
      "image/png": "[encoded data removed]",
      "text/plain": [
       "<matplotlib.figure.Figure at 0xf0ac860>"
      ]
     },
     "metadata": {},
     "output_type": "display_data"
    }
   ],
   "source": [
    "fig, ax = plt.subplots(figsize=(20, 8))\n",
    "sns.countplot('Time_of_Day',data=tables)"
   ]
  },
  {
   "cell_type": "code",
   "execution_count": 26,
   "metadata": {},
   "outputs": [
    {
     "data": {
      "image/png": "[encoded data removed]",
      "text/plain": [
       "<matplotlib.figure.Figure at 0x23d59a90>"
      ]
     },
     "metadata": {},
     "output_type": "display_data"
    }
   ],
   "source": [
    "fig, ax = plt.subplots(figsize=(12, 6))\n",
    "sns.barplot(x='Time_of_Day', y= 'Resolution_Time', data=tables,color='#4c72b0')\n",
    "sns.despine()"
   ]
  },
  {
   "cell_type": "code",
   "execution_count": 27,
   "metadata": {},
   "outputs": [
    {
     "data": {
      "text/plain": [
       "<matplotlib.axes._subplots.AxesSubplot at 0x23dc8e48>"
      ]
     },
     "execution_count": 27,
     "metadata": {},
     "output_type": "execute_result"
    },
    {
     "data": {
      "image/png": "[encoded data removed]",
      "text/plain": [
       "<matplotlib.figure.Figure at 0x23db8828>"
      ]
     },
     "metadata": {},
     "output_type": "display_data"
    }
   ],
   "source": [
    "a=tables.groupby('Year').Unique_Key.nunique().to_frame()\n",
    "a.reset_index(level=0, inplace=True)\n",
    "sns.countplot('Year',data=tables)"
   ]
  },
  {
   "cell_type": "code",
   "execution_count": 17,
   "metadata": {
    "collapsed": true
   },
   "outputs": [],
   "source": [
    "Data=tables[['Agency','Complaint_Type','Descriptor','Location_Type','Resolution_Time','Hour','Year']]\n"
   ]
  },
  {
   "cell_type": "markdown",
   "metadata": {},
   "source": [
    "# Factors Identified...\n",
    ">- \n",
    "Unique_key,\n",
    "created Date,\n",
    "Closed Date,\n",
    "Agency,\n",
    "Complaint Type,\n",
    "Descriptor,\n",
    "Location Type,\n",
    "Latitude,\n",
    "Longitude\n"
   ]
  },
  {
   "cell_type": "code",
   "execution_count": 12,
   "metadata": {},
   "outputs": [
    {
     "data": {
      "text/html": [
       "<div>\n",
       "<style>\n",
       "    .dataframe thead tr:only-child th {\n",
       "        text-align: right;\n",
       "    }\n",
       "\n",
       "    .dataframe thead th {\n",
       "        text-align: left;\n",
       "    }\n",
       "\n",
       "    .dataframe tbody tr th {\n",
       "        vertical-align: top;\n",
       "    }\n",
       "</style>\n",
       "<table border=\"1\" class=\"dataframe\">\n",
       "  <thead>\n",
       "    <tr style=\"text-align: right;\">\n",
       "      <th></th>\n",
       "      <th>Agency</th>\n",
       "      <th>Complaint_Type</th>\n",
       "      <th>Descriptor</th>\n",
       "      <th>Location_Type</th>\n",
       "      <th>Resolution_Time</th>\n",
       "      <th>Hour</th>\n",
       "      <th>Year</th>\n",
       "    </tr>\n",
       "  </thead>\n",
       "  <tbody>\n",
       "    <tr>\n",
       "      <th>0</th>\n",
       "      <td>NYPD</td>\n",
       "      <td>Noise - Residential</td>\n",
       "      <td>Loud Music/Party</td>\n",
       "      <td>Residential Building/House</td>\n",
       "      <td>0</td>\n",
       "      <td>1</td>\n",
       "      <td>2015</td>\n",
       "    </tr>\n",
       "    <tr>\n",
       "      <th>1</th>\n",
       "      <td>NYPD</td>\n",
       "      <td>Noise - Residential</td>\n",
       "      <td>Loud Music/Party</td>\n",
       "      <td>Residential Building/House</td>\n",
       "      <td>0</td>\n",
       "      <td>2</td>\n",
       "      <td>2015</td>\n",
       "    </tr>\n",
       "    <tr>\n",
       "      <th>2</th>\n",
       "      <td>NYPD</td>\n",
       "      <td>Noise - Residential</td>\n",
       "      <td>Loud Music/Party</td>\n",
       "      <td>Residential Building/House</td>\n",
       "      <td>0</td>\n",
       "      <td>2</td>\n",
       "      <td>2015</td>\n",
       "    </tr>\n",
       "    <tr>\n",
       "      <th>3</th>\n",
       "      <td>NYPD</td>\n",
       "      <td>Noise - Residential</td>\n",
       "      <td>Loud Talking</td>\n",
       "      <td>Residential Building/House</td>\n",
       "      <td>0</td>\n",
       "      <td>0</td>\n",
       "      <td>2015</td>\n",
       "    </tr>\n",
       "    <tr>\n",
       "      <th>4</th>\n",
       "      <td>NYPD</td>\n",
       "      <td>Noise - Street/Sidewalk</td>\n",
       "      <td>Loud Music/Party</td>\n",
       "      <td>Street/Sidewalk</td>\n",
       "      <td>0</td>\n",
       "      <td>0</td>\n",
       "      <td>2015</td>\n",
       "    </tr>\n",
       "  </tbody>\n",
       "</table>\n",
       "</div>"
      ],
      "text/plain": [
       "  Agency           Complaint_Type        Descriptor  \\\n",
       "0   NYPD      Noise - Residential  Loud Music/Party   \n",
       "1   NYPD      Noise - Residential  Loud Music/Party   \n",
       "2   NYPD      Noise - Residential  Loud Music/Party   \n",
       "3   NYPD      Noise - Residential      Loud Talking   \n",
       "4   NYPD  Noise - Street/Sidewalk  Loud Music/Party   \n",
       "\n",
       "                Location_Type  Resolution_Time  Hour  Year  \n",
       "0  Residential Building/House                0     1  2015  \n",
       "1  Residential Building/House                0     2  2015  \n",
       "2  Residential Building/House                0     2  2015  \n",
       "3  Residential Building/House                0     0  2015  \n",
       "4             Street/Sidewalk                0     0  2015  "
      ]
     },
     "execution_count": 12,
     "metadata": {},
     "output_type": "execute_result"
    }
   ],
   "source": [
    "Data.head()"
   ]
  },
  {
   "cell_type": "markdown",
   "metadata": {},
   "source": [
    "# Creating Linear Models"
   ]
  },
  {
   "cell_type": "code",
   "execution_count": 13,
   "metadata": {},
   "outputs": [
    {
     "data": {
      "text/plain": [
       "array(['Noise - Residential', 'Noise - Street/Sidewalk',\n",
       "       'Noise - Commercial', 'Noise - Vehicle', 'Noise - Helicopter',\n",
       "       'Noise - House of Worship', 'Noise - Park',\n",
       "       'Collection Truck Noise', 'Noise'], dtype=object)"
      ]
     },
     "execution_count": 13,
     "metadata": {},
     "output_type": "execute_result"
    }
   ],
   "source": [
    "Data['Complaint_Type'].unique()"
   ]
  },
  {
   "cell_type": "code",
   "execution_count": 14,
   "metadata": {},
   "outputs": [
    {
     "data": {
      "text/plain": [
       "array(['Loud Music/Party', 'Loud Talking', 'Banging/Pounding',\n",
       "       'Car/Truck Horn', 'Loud Television', 'Car/Truck Music', 'Other',\n",
       "       'Engine Idling', '21 Collection Truck Noise',\n",
       "       'Noise, Barking Dog (NR5)',\n",
       "       'Noise: Construction Before/After Hours (NM1)',\n",
       "       'Noise: air condition/ventilation equipment (NV1)',\n",
       "       'Noise: Alarms (NR3)', 'News Gathering',\n",
       "       'Noise: Construction Equipment (NC1)', 'NYPD',\n",
       "       'Noise: Private Carting Noise (NQ1)',\n",
       "       'Noise:  lawn care equipment (NCL)', 'Noise: Jack Hammering (NC2)',\n",
       "       'Noise, Ice Cream Truck (NR4)', 'Noise: Manufacturing Noise (NK1)',\n",
       "       'Noise: Boat(Engine,Music,Etc) (NR10)',\n",
       "       'Noise, Other Animals (NR6)',\n",
       "       'Noise: Other Noise Sources (Use Comments) (NZZ)'], dtype=object)"
      ]
     },
     "execution_count": 14,
     "metadata": {},
     "output_type": "execute_result"
    }
   ],
   "source": [
    "Data['Descriptor'].unique()"
   ]
  },
  {
   "cell_type": "code",
   "execution_count": 15,
   "metadata": {},
   "outputs": [
    {
     "data": {
      "text/plain": [
       "array(['Residential Building/House', 'Street/Sidewalk',\n",
       "       'Club/Bar/Restaurant', 'Store/Commercial', 'Above Address',\n",
       "       'House of Worship', 'Park/Playground', 'Sidewalk', nan], dtype=object)"
      ]
     },
     "execution_count": 15,
     "metadata": {},
     "output_type": "execute_result"
    }
   ],
   "source": [
    "Data['Location_Type'].unique()"
   ]
  },
  {
   "cell_type": "code",
   "execution_count": 19,
   "metadata": {},
   "outputs": [],
   "source": [
    "dummy=pd.get_dummies(Data['Agency'])\n",
    "new_data=pd.merge(Data,dummy,left_index=True,right_index=True)\n",
    "#Data=pd.get_dummies(Data['Location_Type'])"
   ]
  },
  {
   "cell_type": "code",
   "execution_count": 20,
   "metadata": {
    "collapsed": true
   },
   "outputs": [],
   "source": [
    "dummy2=pd.get_dummies(Data['Location_Type'])\n",
    "new_data=pd.merge(new_data,dummy2,left_index=True,right_index=True)"
   ]
  },
  {
   "cell_type": "code",
   "execution_count": 22,
   "metadata": {
    "collapsed": true
   },
   "outputs": [],
   "source": [
    "dummy3=pd.get_dummies(Data['Complaint_Type'])\n",
    "new_data=pd.merge(new_data,dummy3,left_index=True,right_index=True)"
   ]
  },
  {
   "cell_type": "code",
   "execution_count": 21,
   "metadata": {},
   "outputs": [
    {
     "data": {
      "text/html": [
       "<div>\n",
       "<style>\n",
       "    .dataframe thead tr:only-child th {\n",
       "        text-align: right;\n",
       "    }\n",
       "\n",
       "    .dataframe thead th {\n",
       "        text-align: left;\n",
       "    }\n",
       "\n",
       "    .dataframe tbody tr th {\n",
       "        vertical-align: top;\n",
       "    }\n",
       "</style>\n",
       "<table border=\"1\" class=\"dataframe\">\n",
       "  <thead>\n",
       "    <tr style=\"text-align: right;\">\n",
       "      <th></th>\n",
       "      <th>Agency</th>\n",
       "      <th>Complaint_Type</th>\n",
       "      <th>Descriptor</th>\n",
       "      <th>Location_Type</th>\n",
       "      <th>Resolution_Time</th>\n",
       "      <th>Hour</th>\n",
       "      <th>Year</th>\n",
       "      <th>DEP</th>\n",
       "      <th>DSNY</th>\n",
       "      <th>EDC</th>\n",
       "      <th>NYPD</th>\n",
       "      <th>Above Address</th>\n",
       "      <th>Club/Bar/Restaurant</th>\n",
       "      <th>House of Worship</th>\n",
       "      <th>Park/Playground</th>\n",
       "      <th>Residential Building/House</th>\n",
       "      <th>Sidewalk</th>\n",
       "      <th>Store/Commercial</th>\n",
       "      <th>Street/Sidewalk</th>\n",
       "    </tr>\n",
       "  </thead>\n",
       "  <tbody>\n",
       "    <tr>\n",
       "      <th>0</th>\n",
       "      <td>NYPD</td>\n",
       "      <td>Noise - Residential</td>\n",
       "      <td>Loud Music/Party</td>\n",
       "      <td>Residential Building/House</td>\n",
       "      <td>0</td>\n",
       "      <td>1</td>\n",
       "      <td>2015</td>\n",
       "      <td>0</td>\n",
       "      <td>0</td>\n",
       "      <td>0</td>\n",
       "      <td>1</td>\n",
       "      <td>0</td>\n",
       "      <td>0</td>\n",
       "      <td>0</td>\n",
       "      <td>0</td>\n",
       "      <td>1</td>\n",
       "      <td>0</td>\n",
       "      <td>0</td>\n",
       "      <td>0</td>\n",
       "    </tr>\n",
       "    <tr>\n",
       "      <th>1</th>\n",
       "      <td>NYPD</td>\n",
       "      <td>Noise - Residential</td>\n",
       "      <td>Loud Music/Party</td>\n",
       "      <td>Residential Building/House</td>\n",
       "      <td>0</td>\n",
       "      <td>2</td>\n",
       "      <td>2015</td>\n",
       "      <td>0</td>\n",
       "      <td>0</td>\n",
       "      <td>0</td>\n",
       "      <td>1</td>\n",
       "      <td>0</td>\n",
       "      <td>0</td>\n",
       "      <td>0</td>\n",
       "      <td>0</td>\n",
       "      <td>1</td>\n",
       "      <td>0</td>\n",
       "      <td>0</td>\n",
       "      <td>0</td>\n",
       "    </tr>\n",
       "  </tbody>\n",
       "</table>\n",
       "</div>"
      ],
      "text/plain": [
       "  Agency       Complaint_Type        Descriptor               Location_Type  \\\n",
       "0   NYPD  Noise - Residential  Loud Music/Party  Residential Building/House   \n",
       "1   NYPD  Noise - Residential  Loud Music/Party  Residential Building/House   \n",
       "\n",
       "   Resolution_Time  Hour  Year  DEP  DSNY  EDC  NYPD  Above Address  \\\n",
       "0                0     1  2015    0     0    0     1              0   \n",
       "1                0     2  2015    0     0    0     1              0   \n",
       "\n",
       "   Club/Bar/Restaurant  House of Worship  Park/Playground  \\\n",
       "0                    0                 0                0   \n",
       "1                    0                 0                0   \n",
       "\n",
       "   Residential Building/House  Sidewalk  Store/Commercial  Street/Sidewalk  \n",
       "0                           1         0                 0                0  \n",
       "1                           1         0                 0                0  "
      ]
     },
     "execution_count": 21,
     "metadata": {},
     "output_type": "execute_result"
    }
   ],
   "source": [
    "new_data.head(2)"
   ]
  },
  {
   "cell_type": "code",
   "execution_count": 23,
   "metadata": {
    "collapsed": true
   },
   "outputs": [],
   "source": [
    "new_data=new_data.drop(['Agency','Location_Type','Complaint_Type','Descriptor'],axis=1) # dropping not required columns from our new dataframe"
   ]
  },
  {
   "cell_type": "code",
   "execution_count": 24,
   "metadata": {},
   "outputs": [
    {
     "data": {
      "text/html": [
       "<div>\n",
       "<style>\n",
       "    .dataframe thead tr:only-child th {\n",
       "        text-align: right;\n",
       "    }\n",
       "\n",
       "    .dataframe thead th {\n",
       "        text-align: left;\n",
       "    }\n",
       "\n",
       "    .dataframe tbody tr th {\n",
       "        vertical-align: top;\n",
       "    }\n",
       "</style>\n",
       "<table border=\"1\" class=\"dataframe\">\n",
       "  <thead>\n",
       "    <tr style=\"text-align: right;\">\n",
       "      <th></th>\n",
       "      <th>Resolution_Time</th>\n",
       "      <th>Hour</th>\n",
       "      <th>Year</th>\n",
       "      <th>DEP</th>\n",
       "      <th>DSNY</th>\n",
       "      <th>EDC</th>\n",
       "      <th>NYPD</th>\n",
       "      <th>Above Address</th>\n",
       "      <th>Club/Bar/Restaurant</th>\n",
       "      <th>House of Worship</th>\n",
       "      <th>...</th>\n",
       "      <th>Street/Sidewalk</th>\n",
       "      <th>Collection Truck Noise</th>\n",
       "      <th>Noise</th>\n",
       "      <th>Noise - Commercial</th>\n",
       "      <th>Noise - Helicopter</th>\n",
       "      <th>Noise - House of Worship</th>\n",
       "      <th>Noise - Park</th>\n",
       "      <th>Noise - Residential</th>\n",
       "      <th>Noise - Street/Sidewalk</th>\n",
       "      <th>Noise - Vehicle</th>\n",
       "    </tr>\n",
       "  </thead>\n",
       "  <tbody>\n",
       "    <tr>\n",
       "      <th>0</th>\n",
       "      <td>0</td>\n",
       "      <td>1</td>\n",
       "      <td>2015</td>\n",
       "      <td>0</td>\n",
       "      <td>0</td>\n",
       "      <td>0</td>\n",
       "      <td>1</td>\n",
       "      <td>0</td>\n",
       "      <td>0</td>\n",
       "      <td>0</td>\n",
       "      <td>...</td>\n",
       "      <td>0</td>\n",
       "      <td>0</td>\n",
       "      <td>0</td>\n",
       "      <td>0</td>\n",
       "      <td>0</td>\n",
       "      <td>0</td>\n",
       "      <td>0</td>\n",
       "      <td>1</td>\n",
       "      <td>0</td>\n",
       "      <td>0</td>\n",
       "    </tr>\n",
       "    <tr>\n",
       "      <th>1</th>\n",
       "      <td>0</td>\n",
       "      <td>2</td>\n",
       "      <td>2015</td>\n",
       "      <td>0</td>\n",
       "      <td>0</td>\n",
       "      <td>0</td>\n",
       "      <td>1</td>\n",
       "      <td>0</td>\n",
       "      <td>0</td>\n",
       "      <td>0</td>\n",
       "      <td>...</td>\n",
       "      <td>0</td>\n",
       "      <td>0</td>\n",
       "      <td>0</td>\n",
       "      <td>0</td>\n",
       "      <td>0</td>\n",
       "      <td>0</td>\n",
       "      <td>0</td>\n",
       "      <td>1</td>\n",
       "      <td>0</td>\n",
       "      <td>0</td>\n",
       "    </tr>\n",
       "  </tbody>\n",
       "</table>\n",
       "<p>2 rows × 24 columns</p>\n",
       "</div>"
      ],
      "text/plain": [
       "   Resolution_Time  Hour  Year  DEP  DSNY  EDC  NYPD  Above Address  \\\n",
       "0                0     1  2015    0     0    0     1              0   \n",
       "1                0     2  2015    0     0    0     1              0   \n",
       "\n",
       "   Club/Bar/Restaurant  House of Worship       ...         Street/Sidewalk  \\\n",
       "0                    0                 0       ...                       0   \n",
       "1                    0                 0       ...                       0   \n",
       "\n",
       "   Collection Truck Noise  Noise  Noise - Commercial  Noise - Helicopter  \\\n",
       "0                       0      0                   0                   0   \n",
       "1                       0      0                   0                   0   \n",
       "\n",
       "   Noise - House of Worship  Noise - Park  Noise - Residential  \\\n",
       "0                         0             0                    1   \n",
       "1                         0             0                    1   \n",
       "\n",
       "   Noise - Street/Sidewalk  Noise - Vehicle  \n",
       "0                        0                0  \n",
       "1                        0                0  \n",
       "\n",
       "[2 rows x 24 columns]"
      ]
     },
     "execution_count": 24,
     "metadata": {},
     "output_type": "execute_result"
    }
   ],
   "source": [
    "new_data.head(2)"
   ]
  },
  {
   "cell_type": "code",
   "execution_count": 25,
   "metadata": {
    "collapsed": true
   },
   "outputs": [],
   "source": [
    "X=new_data[new_data.columns.difference(['Resolution_Time'])]"
   ]
  },
  {
   "cell_type": "code",
   "execution_count": 28,
   "metadata": {
    "collapsed": true
   },
   "outputs": [],
   "source": [
    "Y=new_data['Resolution_Time']"
   ]
  },
  {
   "cell_type": "markdown",
   "metadata": {},
   "source": [
    "## Using RFE to identify useful variables and repeating LR model to check efficiency"
   ]
  },
  {
   "cell_type": "code",
   "execution_count": 56,
   "metadata": {},
   "outputs": [],
   "source": [
    "from sklearn.feature_selection import RFE\n",
    "from sklearn.linear_model import LinearRegression\n",
    "model = LinearRegression()\n",
    "rfe = RFE(model, 5)\n",
    "fit = rfe.fit(X, Y)"
   ]
  },
  {
   "cell_type": "code",
   "execution_count": 48,
   "metadata": {},
   "outputs": [
    {
     "name": "stdout",
     "output_type": "stream",
     "text": [
      "[ True False False  True  True  True False False  True  True  True  True\n",
      " False False False  True False False False  True False False False]\n",
      "[ 1  9  6  1  1  1 14 11  1  1  1  1  5  7  3  1  2  4 13  1  8 10 12]\n"
     ]
    }
   ],
   "source": [
    "print(rfe.support_)\n",
    "print(rfe.ranking_)"
   ]
  },
  {
   "cell_type": "markdown",
   "metadata": {},
   "source": [
    "# Creating Training and Test Data\n",
    ">- We divided our data set into training data(80%) and test data(20%) to evaluate our model"
   ]
  },
  {
   "cell_type": "code",
   "execution_count": 57,
   "metadata": {},
   "outputs": [],
   "source": [
    "b=X.columns\n",
    "a=rfe.support_\n",
    "c=pd.DataFrame(a,index=b)\n",
    "c=c[c[0]==True]\n",
    "#c.head()"
   ]
  },
  {
   "cell_type": "code",
   "execution_count": 50,
   "metadata": {},
   "outputs": [
    {
     "data": {
      "text/plain": [
       "Index(['Above Address', 'DEP', 'DSNY', 'EDC', 'NYPD', 'Noise',\n",
       "       'Noise - Commercial', 'Noise - Helicopter', 'Noise - Street/Sidewalk',\n",
       "       'Sidewalk'],\n",
       "      dtype='object')"
      ]
     },
     "execution_count": 50,
     "metadata": {},
     "output_type": "execute_result"
    }
   ],
   "source": [
    "c.index"
   ]
  },
  {
   "cell_type": "code",
   "execution_count": 37,
   "metadata": {
    "collapsed": true
   },
   "outputs": [],
   "source": [
    "from sklearn.model_selection import train_test_split\n",
    "X_train, X_test, Y_train, Y_test = train_test_split(X, Y, test_size=0.30, random_state=42)"
   ]
  },
  {
   "cell_type": "code",
   "execution_count": 38,
   "metadata": {},
   "outputs": [
    {
     "name": "stdout",
     "output_type": "stream",
     "text": [
      "(237120, 23)\n",
      "(101624, 23)\n"
     ]
    }
   ],
   "source": [
    "print(X_train.shape)\n",
    "print(X_test.shape)"
   ]
  },
  {
   "cell_type": "code",
   "execution_count": 39,
   "metadata": {
    "collapsed": true
   },
   "outputs": [],
   "source": [
    "from sklearn import linear_model\n",
    "lm = linear_model.LinearRegression()\n",
    "model = lm.fit(X_train,Y_train)\n",
    "predictions=model.predict(X_test)"
   ]
  },
  {
   "cell_type": "code",
   "execution_count": 40,
   "metadata": {},
   "outputs": [
    {
     "data": {
      "image/png": "[encoded data removed]",
      "text/plain": [
       "<matplotlib.figure.Figure at 0x23d37b00>"
      ]
     },
     "metadata": {},
     "output_type": "display_data"
    }
   ],
   "source": [
    "plt.scatter(Y_test, predictions)\n",
    "plt.xlabel('True Values')\n",
    "plt.ylabel('Predictions')\n",
    "plt.show()"
   ]
  },
  {
   "cell_type": "code",
   "execution_count": 41,
   "metadata": {},
   "outputs": [
    {
     "name": "stdout",
     "output_type": "stream",
     "text": [
      "Variance score: 0.64\n"
     ]
    }
   ],
   "source": [
    "from sklearn.metrics import r2_score,mean_squared_error\n",
    "print('Variance score: %.2f' % r2_score(Y_test, predictions))"
   ]
  },
  {
   "cell_type": "code",
   "execution_count": 42,
   "metadata": {},
   "outputs": [
    {
     "name": "stdout",
     "output_type": "stream",
     "text": [
      "Mean squared error: 3.28\n"
     ]
    }
   ],
   "source": [
    "print(\"Mean squared error: %.2f\"\n",
    "      % mean_squared_error(Y_test, predictions))"
   ]
  },
  {
   "cell_type": "code",
   "execution_count": 43,
   "metadata": {},
   "outputs": [
    {
     "data": {
      "text/plain": [
       "count    101624.000000\n",
       "mean          0.706329\n",
       "std           3.025731\n",
       "min           0.000000\n",
       "25%           0.000000\n",
       "50%           0.000000\n",
       "75%           1.000000\n",
       "max         115.000000\n",
       "Name: Resolution_Time, dtype: float64"
      ]
     },
     "execution_count": 43,
     "metadata": {},
     "output_type": "execute_result"
    }
   ],
   "source": [
    "Y_test.describe() "
   ]
  },
  {
   "cell_type": "code",
   "execution_count": 52,
   "metadata": {},
   "outputs": [
    {
     "name": "stdout",
     "output_type": "stream",
     "text": [
      "Variance score: 0.64\n",
      "Mean squared error: 3.34\n"
     ]
    }
   ],
   "source": [
    "from sklearn.model_selection import train_test_split\n",
    "X_train, X_test, Y_train, Y_test = train_test_split(X[c.index], Y, test_size=0.30, random_state=42)\n",
    "from sklearn import linear_model\n",
    "lm = linear_model.LinearRegression()\n",
    "model = lm.fit(X_train,Y_train)\n",
    "predictions=model.predict(X_test)\n",
    "from sklearn.metrics import r2_score,mean_squared_error\n",
    "print('Variance score: %.2f' % r2_score(Y_test, predictions))\n",
    "print(\"Mean squared error: %.2f\"\n",
    "      % mean_squared_error(Y_test, predictions))"
   ]
  },
  {
   "cell_type": "code",
   "execution_count": 55,
   "metadata": {},
   "outputs": [
    {
     "name": "stdout",
     "output_type": "stream",
     "text": [
      "Variance score: 0.64\n",
      "Mean squared error: 3.34\n"
     ]
    }
   ],
   "source": [
    "# 15 variables\n",
    "from sklearn.model_selection import train_test_split\n",
    "X_train, X_test, Y_train, Y_test = train_test_split(X[c.index], Y, test_size=0.30, random_state=42)\n",
    "from sklearn import linear_model\n",
    "lm = linear_model.LinearRegression()\n",
    "model = lm.fit(X_train,Y_train)\n",
    "predictions=model.predict(X_test)\n",
    "from sklearn.metrics import r2_score,mean_squared_error\n",
    "print('Variance score: %.2f' % r2_score(Y_test, predictions))\n",
    "print(\"Mean squared error: %.2f\"\n",
    "      % mean_squared_error(Y_test, predictions))"
   ]
  },
  {
   "cell_type": "code",
   "execution_count": 58,
   "metadata": {},
   "outputs": [
    {
     "name": "stdout",
     "output_type": "stream",
     "text": [
      "Variance score: 0.64\n",
      "Mean squared error: 3.34\n"
     ]
    }
   ],
   "source": [
    "# 5 variables\n",
    "from sklearn.model_selection import train_test_split\n",
    "X_train, X_test, Y_train, Y_test = train_test_split(X[c.index], Y, test_size=0.30, random_state=42)\n",
    "from sklearn import linear_model\n",
    "lm = linear_model.LinearRegression()\n",
    "model = lm.fit(X_train,Y_train)\n",
    "predictions=model.predict(X_test)\n",
    "from sklearn.metrics import r2_score,mean_squared_error\n",
    "print('Variance score: %.2f' % r2_score(Y_test, predictions))\n",
    "print(\"Mean squared error: %.2f\"\n",
    "      % mean_squared_error(Y_test, predictions))"
   ]
  },
  {
   "cell_type": "code",
   "execution_count": 65,
   "metadata": {},
   "outputs": [
    {
     "name": "stdout",
     "output_type": "stream",
     "text": [
      "Variance score: 0.64\n",
      "Mean squared error: 3.28\n"
     ]
    }
   ],
   "source": [
    "# all variables\n",
    "from sklearn.model_selection import train_test_split\n",
    "X_train, X_test, Y_train, Y_test = train_test_split(X, Y, test_size=0.30, random_state=42)\n",
    "from sklearn import linear_model\n",
    "lm = linear_model.LinearRegression()\n",
    "model = lm.fit(X_train,Y_train)\n",
    "predictions=model.predict(X_test)\n",
    "from sklearn.metrics import r2_score,mean_squared_error\n",
    "print('Variance score: %.2f' % r2_score(Y_test, predictions))\n",
    "print(\"Mean squared error: %.2f\"\n",
    "      % mean_squared_error(Y_test, predictions))"
   ]
  },
  {
   "cell_type": "code",
   "execution_count": 63,
   "metadata": {},
   "outputs": [
    {
     "data": {
      "text/plain": [
       "1.7567286543510225"
      ]
     },
     "execution_count": 63,
     "metadata": {},
     "output_type": "execute_result"
    }
   ],
   "source": [
    "from sklearn.model_selection import cross_val_score\n",
    "clf=linear_model.LinearRegression()\n",
    "scores = cross_val_score(clf, X[c.index], Y,scoring=\"neg_mean_squared_error\", cv=10)\n",
    "np.sqrt(-scores).mean()"
   ]
  },
  {
   "cell_type": "markdown",
   "metadata": {},
   "source": [
    "# Lasso Regression"
   ]
  },
  {
   "cell_type": "code",
   "execution_count": 158,
   "metadata": {},
   "outputs": [],
   "source": [
    "from sklearn.linear_model import LassoLarsCV\n",
    "model=LassoLarsCV(cv=10, precompute=False).fit(X,Y)"
   ]
  },
  {
   "cell_type": "code",
   "execution_count": 133,
   "metadata": {},
   "outputs": [],
   "source": [
    "ab= (dict(zip(X_train.columns, model.coef_)))"
   ]
  },
  {
   "cell_type": "code",
   "execution_count": 134,
   "metadata": {},
   "outputs": [],
   "source": [
    "ab=pd.DataFrame(ab,index=ab.keys())\n",
    "#ab.head(2)\n"
   ]
  },
  {
   "cell_type": "markdown",
   "metadata": {},
   "source": [
    "### Feature selection using Lasso"
   ]
  },
  {
   "cell_type": "code",
   "execution_count": 143,
   "metadata": {},
   "outputs": [
    {
     "data": {
      "text/plain": [
       "Index(['Club/Bar/Restaurant', 'Collection Truck Noise', 'DEP', 'EDC',\n",
       "       'House of Worship', 'Noise', 'Noise - Commercial', 'Noise - Helicopter',\n",
       "       'Noise - House of Worship', 'Noise - Park', 'Noise - Residential',\n",
       "       'Noise - Street/Sidewalk', 'Noise - Vehicle', 'Park/Playground',\n",
       "       'Residential Building/House', 'Sidewalk', 'Store/Commercial',\n",
       "       'Street/Sidewalk'],\n",
       "      dtype='object')"
      ]
     },
     "execution_count": 143,
     "metadata": {},
     "output_type": "execute_result"
    }
   ],
   "source": [
    "ab.columns[(ab == 0).all()] # these coefficients are zero and can be excluded"
   ]
  },
  {
   "cell_type": "code",
   "execution_count": 136,
   "metadata": {},
   "outputs": [
    {
     "name": "stdout",
     "output_type": "stream",
     "text": [
      "training data R-square\n",
      "0.620529400774\n",
      "test data R-square\n",
      "0.641327745831\n"
     ]
    }
   ],
   "source": [
    "rsquared_train=model.score(X_train,Y_train)\n",
    "rsquared_test=model.score(X_test,Y_test)\n",
    "print ('training data R-square')\n",
    "print(rsquared_train)\n",
    "print ('test data R-square')\n",
    "print(rsquared_test)"
   ]
  },
  {
   "cell_type": "code",
   "execution_count": 71,
   "metadata": {},
   "outputs": [
    {
     "name": "stdout",
     "output_type": "stream",
     "text": [
      "training data MSE\n",
      "3.40437201682\n",
      "test data MSE\n",
      "3.28139167329\n"
     ]
    }
   ],
   "source": [
    "from sklearn.metrics import mean_squared_error\n",
    "train_error = mean_squared_error(Y_train, model.predict(X_train))\n",
    "test_error = mean_squared_error(Y_test, model.predict(X_test))\n",
    "print ('training data MSE')\n",
    "print(train_error)\n",
    "print ('test data MSE')\n",
    "print(test_error)"
   ]
  },
  {
   "cell_type": "code",
   "execution_count": 148,
   "metadata": {},
   "outputs": [],
   "source": [
    "alphas = np.logspace(-4, -1, 10)\n",
    "scores = []\n",
    "pred=[]\n",
    "for i,a in enumerate(alphas):\n",
    "    lasso = linear_model.Lasso()\n",
    "    lasso.set_params(alpha=a)\n",
    "    lasso.fit(X_train, Y_train)\n",
    "    pred.append(lasso.predict(X_test))\n",
    "    scores.append(r2_score(Y_test,lasso.predict(X_test)))\n",
    "    mse.append(mean_squared_error(Y_test,lasso.predict(X_test)))\n"
   ]
  },
  {
   "cell_type": "code",
   "execution_count": 126,
   "metadata": {},
   "outputs": [
    {
     "data": {
      "text/plain": [
       "0.60274645352946832"
      ]
     },
     "execution_count": 126,
     "metadata": {},
     "output_type": "execute_result"
    }
   ],
   "source": [
    "sum(scores)/len(scores)"
   ]
  },
  {
   "cell_type": "code",
   "execution_count": 149,
   "metadata": {},
   "outputs": [
    {
     "data": {
      "text/plain": [
       "3.4589929421700183"
      ]
     },
     "execution_count": 149,
     "metadata": {},
     "output_type": "execute_result"
    }
   ],
   "source": [
    "sum(mse)/len(mse)"
   ]
  },
  {
   "cell_type": "markdown",
   "metadata": {},
   "source": [
    "## Implementing Lasso with CV"
   ]
  },
  {
   "cell_type": "code",
   "execution_count": 130,
   "metadata": {},
   "outputs": [
    {
     "name": "stdout",
     "output_type": "stream",
     "text": [
      "R2 0.626511611764\n"
     ]
    }
   ],
   "source": [
    "lassocv = linear_model.LassoCV(cv=10)\n",
    "lassocv.fit(X, Y)\n",
    "lassocv_score = lassocv.score(X, Y)\n",
    "lassocv_alpha = lassocv.alpha_\n",
    "print('R2', lassocv_score)"
   ]
  },
  {
   "cell_type": "markdown",
   "metadata": {},
   "source": [
    "# Ridge Regression"
   ]
  },
  {
   "cell_type": "code",
   "execution_count": 153,
   "metadata": {},
   "outputs": [],
   "source": [
    "from sklearn.linear_model import Ridge,RidgeCV\n",
    "alphas = np.logspace(-4, -1, 10)\n",
    "scores = []\n",
    "pred=[]\n",
    "mse=[]\n",
    "for i,a in enumerate(alphas):\n",
    "    lasso = linear_model.Ridge()\n",
    "    lasso.set_params(alpha=a)\n",
    "    lasso.fit(X_train, Y_train)\n",
    "    pred.append(lasso.predict(X_test))\n",
    "    scores.append(r2_score(Y_test,lasso.predict(X_test)))\n",
    "    mse.append(mean_squared_error(Y_test,lasso.predict(X_test)))\n"
   ]
  },
  {
   "cell_type": "code",
   "execution_count": 154,
   "metadata": {},
   "outputs": [
    {
     "name": "stdout",
     "output_type": "stream",
     "text": [
      "R2 of Ridge is  0.641599165517\n"
     ]
    }
   ],
   "source": [
    "print('R2 of Ridge is ',sum(scores)/len(scores))"
   ]
  },
  {
   "cell_type": "code",
   "execution_count": 155,
   "metadata": {},
   "outputs": [
    {
     "name": "stdout",
     "output_type": "stream",
     "text": [
      "R2 of Ridge is  3.2811454236\n"
     ]
    }
   ],
   "source": [
    "print('R2 of Ridge is ',sum(mse)/len(mse))"
   ]
  },
  {
   "cell_type": "markdown",
   "metadata": {},
   "source": [
    "# Implementing Ridge Cross Validation"
   ]
  },
  {
   "cell_type": "code",
   "execution_count": 156,
   "metadata": {},
   "outputs": [
    {
     "name": "stdout",
     "output_type": "stream",
     "text": [
      "R2 0.627171638105\n"
     ]
    }
   ],
   "source": [
    "ridgecv = linear_model.RidgeCV(cv=10)\n",
    "ridgecv.fit(X, Y)\n",
    "ridgecv_score = ridgecv.score(X, Y)\n",
    "ridgecv_alpha = ridgecv.alpha_\n",
    "print('R2', ridgecv_score)"
   ]
  },
  {
   "cell_type": "code",
   "execution_count": null,
   "metadata": {},
   "outputs": [],
   "source": []
  },
  {
   "cell_type": "code",
   "execution_count": null,
   "metadata": {
    "collapsed": true
   },
   "outputs": [],
   "source": []
  }
 ],
 "metadata": {
  "kernelspec": {
   "display_name": "Python 3",
   "language": "python",
   "name": "python3"
  },
  "language_info": {
   "codemirror_mode": {
    "name": "ipython",
    "version": 3
   },
   "file_extension": ".py",
   "mimetype": "text/x-python",
   "name": "python",
   "nbconvert_exporter": "python",
   "pygments_lexer": "ipython3",
   "version": "3.6.1"
  }
 },
 "nbformat": 4,
 "nbformat_minor": 2
}

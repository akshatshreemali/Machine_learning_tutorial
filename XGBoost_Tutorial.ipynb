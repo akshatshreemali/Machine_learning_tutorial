{
 "cells": [
  {
   "cell_type": "code",
   "execution_count": 1,
   "metadata": {
    "collapsed": true
   },
   "outputs": [],
   "source": [
    "import numpy as np\n",
    "import pandas as pd\n",
    "import matplotlib.pyplot as plt"
   ]
  },
  {
   "cell_type": "code",
   "execution_count": 2,
   "metadata": {
    "collapsed": true
   },
   "outputs": [],
   "source": [
    "data=pd.read_csv('C:/Users/Akshat/Downloads/binary.csv')"
   ]
  },
  {
   "cell_type": "code",
   "execution_count": 3,
   "metadata": {},
   "outputs": [
    {
     "data": {
      "text/html": [
       "<div>\n",
       "<style>\n",
       "    .dataframe thead tr:only-child th {\n",
       "        text-align: right;\n",
       "    }\n",
       "\n",
       "    .dataframe thead th {\n",
       "        text-align: left;\n",
       "    }\n",
       "\n",
       "    .dataframe tbody tr th {\n",
       "        vertical-align: top;\n",
       "    }\n",
       "</style>\n",
       "<table border=\"1\" class=\"dataframe\">\n",
       "  <thead>\n",
       "    <tr style=\"text-align: right;\">\n",
       "      <th></th>\n",
       "      <th>admit</th>\n",
       "      <th>gre</th>\n",
       "      <th>gpa</th>\n",
       "      <th>rank</th>\n",
       "    </tr>\n",
       "  </thead>\n",
       "  <tbody>\n",
       "    <tr>\n",
       "      <th>0</th>\n",
       "      <td>0</td>\n",
       "      <td>380</td>\n",
       "      <td>3.61</td>\n",
       "      <td>3</td>\n",
       "    </tr>\n",
       "    <tr>\n",
       "      <th>1</th>\n",
       "      <td>1</td>\n",
       "      <td>660</td>\n",
       "      <td>3.67</td>\n",
       "      <td>3</td>\n",
       "    </tr>\n",
       "    <tr>\n",
       "      <th>2</th>\n",
       "      <td>1</td>\n",
       "      <td>800</td>\n",
       "      <td>4.00</td>\n",
       "      <td>1</td>\n",
       "    </tr>\n",
       "    <tr>\n",
       "      <th>3</th>\n",
       "      <td>1</td>\n",
       "      <td>640</td>\n",
       "      <td>3.19</td>\n",
       "      <td>4</td>\n",
       "    </tr>\n",
       "    <tr>\n",
       "      <th>4</th>\n",
       "      <td>0</td>\n",
       "      <td>520</td>\n",
       "      <td>2.93</td>\n",
       "      <td>4</td>\n",
       "    </tr>\n",
       "  </tbody>\n",
       "</table>\n",
       "</div>"
      ],
      "text/plain": [
       "   admit  gre   gpa  rank\n",
       "0      0  380  3.61     3\n",
       "1      1  660  3.67     3\n",
       "2      1  800  4.00     1\n",
       "3      1  640  3.19     4\n",
       "4      0  520  2.93     4"
      ]
     },
     "execution_count": 3,
     "metadata": {},
     "output_type": "execute_result"
    }
   ],
   "source": [
    "data.head()"
   ]
  },
  {
   "cell_type": "code",
   "execution_count": 4,
   "metadata": {
    "collapsed": true
   },
   "outputs": [],
   "source": [
    "X=data[['gre','gpa','rank']]\n",
    "Y=data[['admit']]"
   ]
  },
  {
   "cell_type": "code",
   "execution_count": 5,
   "metadata": {
    "collapsed": true
   },
   "outputs": [],
   "source": [
    "from sklearn.model_selection import train_test_split"
   ]
  },
  {
   "cell_type": "code",
   "execution_count": 6,
   "metadata": {
    "collapsed": true
   },
   "outputs": [],
   "source": [
    "X_train,X_test,y_train,y_test=train_test_split(X,Y,test_size=0.2,random_state=40)"
   ]
  },
  {
   "cell_type": "code",
   "execution_count": 10,
   "metadata": {
    "collapsed": true
   },
   "outputs": [],
   "source": [
    "import xgboost as xgb"
   ]
  },
  {
   "cell_type": "code",
   "execution_count": 11,
   "metadata": {
    "collapsed": true
   },
   "outputs": [],
   "source": [
    "from xgboost.sklearn import XGBClassifier"
   ]
  },
  {
   "cell_type": "code",
   "execution_count": 25,
   "metadata": {},
   "outputs": [
    {
     "name": "stderr",
     "output_type": "stream",
     "text": [
      "C:\\Users\\Akshat\\Anaconda3\\lib\\site-packages\\sklearn\\cross_validation.py:41: DeprecationWarning: This module was deprecated in version 0.18 in favor of the model_selection module into which all the refactored classes and functions are moved. Also note that the interface of the new CV iterators are different from that of this module. This module will be removed in 0.20.\n",
      "  \"This module will be removed in 0.20.\", DeprecationWarning)\n",
      "C:\\Users\\Akshat\\Anaconda3\\lib\\site-packages\\sklearn\\grid_search.py:42: DeprecationWarning: This module was deprecated in version 0.18 in favor of the model_selection module into which all the refactored classes and functions are moved. This module will be removed in 0.20.\n",
      "  DeprecationWarning)\n"
     ]
    }
   ],
   "source": [
    "from sklearn import cross_validation, metrics   #Additional scklearn functions\n",
    "from sklearn.grid_search import GridSearchCV"
   ]
  },
  {
   "cell_type": "code",
   "execution_count": 13,
   "metadata": {
    "collapsed": true
   },
   "outputs": [],
   "source": [
    "xgb1 = XGBClassifier(\n",
    " learning_rate =0.1,\n",
    " n_estimators=1000,\n",
    " max_depth=5,\n",
    " min_child_weight=1,\n",
    " gamma=0,\n",
    " subsample=0.8,\n",
    " colsample_bytree=0.8,\n",
    " objective= 'binary:logistic',\n",
    " nthread=4,\n",
    " scale_pos_weight=1,\n",
    " seed=27)\n",
    "#modelfit(xgb1, train, predictors)"
   ]
  },
  {
   "cell_type": "code",
   "execution_count": 70,
   "metadata": {},
   "outputs": [],
   "source": [
    "dtrain = xgb.DMatrix(X_train.values, label=y_train)\n",
    "dtest = xgb.DMatrix(X_test.values)"
   ]
  },
  {
   "cell_type": "code",
   "execution_count": 16,
   "metadata": {},
   "outputs": [
    {
     "name": "stderr",
     "output_type": "stream",
     "text": [
      "C:\\Users\\Akshat\\Anaconda3\\lib\\site-packages\\sklearn\\preprocessing\\label.py:95: DataConversionWarning: A column-vector y was passed when a 1d array was expected. Please change the shape of y to (n_samples, ), for example using ravel().\n",
      "  y = column_or_1d(y, warn=True)\n",
      "C:\\Users\\Akshat\\Anaconda3\\lib\\site-packages\\sklearn\\preprocessing\\label.py:128: DataConversionWarning: A column-vector y was passed when a 1d array was expected. Please change the shape of y to (n_samples, ), for example using ravel().\n",
      "  y = column_or_1d(y, warn=True)\n"
     ]
    }
   ],
   "source": [
    "m=xgb1.fit(X_train,y_train)"
   ]
  },
  {
   "cell_type": "code",
   "execution_count": 71,
   "metadata": {},
   "outputs": [
    {
     "data": {
      "text/plain": [
       "['f0', 'f1', 'f2']"
      ]
     },
     "execution_count": 71,
     "metadata": {},
     "output_type": "execute_result"
    }
   ],
   "source": [
    "dtest.feature_names"
   ]
  },
  {
   "cell_type": "code",
   "execution_count": 59,
   "metadata": {
    "collapsed": true
   },
   "outputs": [],
   "source": [
    "dtest=xgb.DMatrix(X_test)"
   ]
  },
  {
   "cell_type": "code",
   "execution_count": 18,
   "metadata": {},
   "outputs": [],
   "source": [
    "pred=m.predict(X_test)"
   ]
  },
  {
   "cell_type": "code",
   "execution_count": 19,
   "metadata": {
    "collapsed": true
   },
   "outputs": [],
   "source": [
    "from sklearn.metrics import accuracy_score,classification_report"
   ]
  },
  {
   "cell_type": "code",
   "execution_count": 22,
   "metadata": {},
   "outputs": [
    {
     "name": "stdout",
     "output_type": "stream",
     "text": [
      "             precision    recall  f1-score   support\n",
      "\n",
      "          0       0.87      0.74      0.80        62\n",
      "          1       0.41      0.61      0.49        18\n",
      "\n",
      "avg / total       0.76      0.71      0.73        80\n",
      "\n"
     ]
    }
   ],
   "source": [
    "print(classification_report(pred,y_test,labels=[0,1]))"
   ]
  },
  {
   "cell_type": "code",
   "execution_count": 33,
   "metadata": {},
   "outputs": [],
   "source": [
    "y_train=np.array(y_train)\n",
    "y_train=y_train.reshape(320,)\n",
    "y_train=y_train.astype('int')"
   ]
  },
  {
   "cell_type": "code",
   "execution_count": 51,
   "metadata": {},
   "outputs": [
    {
     "data": {
      "text/plain": [
       "GridSearchCV(cv=5, error_score='raise',\n",
       "       estimator=XGBClassifier(base_score=0.5, booster='gbtree', colsample_bylevel=1,\n",
       "       colsample_bytree=0.8, gamma=0, learning_rate=0.1, max_delta_step=0,\n",
       "       max_depth=3, min_child_weight=1, missing=None, n_estimators=1000,\n",
       "       n_jobs=1, nthread=None, objective='binary:logistic', random_state=0,\n",
       "       reg_alpha=0, reg_lambda=1, scale_pos_weight=1, seed=0, silent=True,\n",
       "       subsample=0.8),\n",
       "       fit_params={}, iid=True, n_jobs=-1,\n",
       "       param_grid={'max_depth': array([ 3,  5,  7,  9, 11]), 'min_child_weight': [1, 3, 5]},\n",
       "       pre_dispatch='2*n_jobs', refit=True, scoring='accuracy', verbose=0)"
      ]
     },
     "execution_count": 51,
     "metadata": {},
     "output_type": "execute_result"
    }
   ],
   "source": [
    "cv_params = {'max_depth': np.arange(3,12,2), 'min_child_weight': [1,3,5]}\n",
    "ind_params = {'learning_rate': 0.1, 'n_estimators': 1000, 'seed':0, 'subsample': 0.8, 'colsample_bytree': 0.8, \n",
    "             'objective': 'binary:logistic'}\n",
    "optimized_GBM = GridSearchCV(xgb.XGBClassifier(**ind_params), \n",
    "                            cv_params, \n",
    "                             scoring = 'accuracy', cv = 5, n_jobs = -1) \n",
    "# Optimize for accuracy since that is the metric used in the Adult Data Set notation\n",
    "optimized_GBM.fit(X_train, y_train)"
   ]
  },
  {
   "cell_type": "code",
   "execution_count": 52,
   "metadata": {},
   "outputs": [
    {
     "data": {
      "text/plain": [
       "[mean: 0.70000, std: 0.04677, params: {'max_depth': 3, 'min_child_weight': 1},\n",
       " mean: 0.70625, std: 0.04780, params: {'max_depth': 3, 'min_child_weight': 3},\n",
       " mean: 0.66875, std: 0.05173, params: {'max_depth': 3, 'min_child_weight': 5},\n",
       " mean: 0.68125, std: 0.05813, params: {'max_depth': 5, 'min_child_weight': 1},\n",
       " mean: 0.68750, std: 0.05413, params: {'max_depth': 5, 'min_child_weight': 3},\n",
       " mean: 0.66250, std: 0.05467, params: {'max_depth': 5, 'min_child_weight': 5},\n",
       " mean: 0.68125, std: 0.05097, params: {'max_depth': 7, 'min_child_weight': 1},\n",
       " mean: 0.69063, std: 0.04980, params: {'max_depth': 7, 'min_child_weight': 3},\n",
       " mean: 0.65938, std: 0.05449, params: {'max_depth': 7, 'min_child_weight': 5},\n",
       " mean: 0.68750, std: 0.05229, params: {'max_depth': 9, 'min_child_weight': 1},\n",
       " mean: 0.68750, std: 0.05929, params: {'max_depth': 9, 'min_child_weight': 3},\n",
       " mean: 0.65938, std: 0.05449, params: {'max_depth': 9, 'min_child_weight': 5},\n",
       " mean: 0.68437, std: 0.05449, params: {'max_depth': 11, 'min_child_weight': 1},\n",
       " mean: 0.68750, std: 0.05929, params: {'max_depth': 11, 'min_child_weight': 3},\n",
       " mean: 0.65938, std: 0.05449, params: {'max_depth': 11, 'min_child_weight': 5}]"
      ]
     },
     "execution_count": 52,
     "metadata": {},
     "output_type": "execute_result"
    }
   ],
   "source": [
    "optimized_GBM.grid_scores_"
   ]
  },
  {
   "cell_type": "code",
   "execution_count": 36,
   "metadata": {},
   "outputs": [
    {
     "data": {
      "text/plain": [
       "[mean: 0.68125, std: 0.05376, params: {'learning_rate': 0.1, 'subsample': 0.7},\n",
       " mean: 0.70625, std: 0.04780, params: {'learning_rate': 0.1, 'subsample': 0.8},\n",
       " mean: 0.70312, std: 0.05413, params: {'learning_rate': 0.1, 'subsample': 0.9},\n",
       " mean: 0.70937, std: 0.02119, params: {'learning_rate': 0.01, 'subsample': 0.7},\n",
       " mean: 0.71875, std: 0.02795, params: {'learning_rate': 0.01, 'subsample': 0.8},\n",
       " mean: 0.71562, std: 0.04353, params: {'learning_rate': 0.01, 'subsample': 0.9}]"
      ]
     },
     "execution_count": 36,
     "metadata": {},
     "output_type": "execute_result"
    }
   ],
   "source": [
    "cv_params = {'learning_rate': [0.1, 0.01], 'subsample': [0.7,0.8,0.9]}\n",
    "ind_params = {'n_estimators': 1000, 'seed':0, 'colsample_bytree': 0.8, \n",
    "             'objective': 'binary:logistic', 'max_depth': 3, 'min_child_weight': 3}\n",
    "optimized_GBM = GridSearchCV(xgb.XGBClassifier(**ind_params), \n",
    "                            cv_params, \n",
    "                             scoring = 'accuracy', cv = 5, n_jobs = -1) \n",
    "# Optimize for accuracy since that is the metric used in the Adult Data Set notation\n",
    "optimized_GBM.fit(X_train, y_train)\n",
    "optimized_GBM.grid_scores_"
   ]
  },
  {
   "cell_type": "code",
   "execution_count": 94,
   "metadata": {},
   "outputs": [
    {
     "data": {
      "text/plain": [
       "[mean: 0.71875, std: 0.02795, params: {'gamma': 0.0},\n",
       " mean: 0.72188, std: 0.02500, params: {'gamma': 0.1},\n",
       " mean: 0.71562, std: 0.02296, params: {'gamma': 0.2},\n",
       " mean: 0.71562, std: 0.02296, params: {'gamma': 0.3},\n",
       " mean: 0.71562, std: 0.02296, params: {'gamma': 0.4}]"
      ]
     },
     "execution_count": 94,
     "metadata": {},
     "output_type": "execute_result"
    }
   ],
   "source": [
    "cv_params = {'gamma':[i/10.0 for i in range(0,5)]}\n",
    "ind_params = {'n_estimators': 1000, 'seed':0, 'colsample_bytree': 0.8, \n",
    "             'objective': 'binary:logistic', 'max_depth': 3, 'min_child_weight': 3,'learning_rate':0.01,'subsample':0.8}\n",
    "optimized_GBM = GridSearchCV(xgb.XGBClassifier(**ind_params), \n",
    "                            cv_params, \n",
    "                             scoring = 'accuracy', cv = 5, n_jobs = -1) \n",
    "# Optimize for accuracy since that is the metric used in the Adult Data Set notation\n",
    "optimized_GBM.fit(X_train, y_train)\n",
    "optimized_GBM.grid_scores_"
   ]
  },
  {
   "cell_type": "code",
   "execution_count": 96,
   "metadata": {},
   "outputs": [
    {
     "data": {
      "text/plain": [
       "[mean: 0.69375, std: 0.04485, params: {'colsample_bytree': 0.3},\n",
       " mean: 0.69375, std: 0.04485, params: {'colsample_bytree': 0.4},\n",
       " mean: 0.69375, std: 0.04485, params: {'colsample_bytree': 0.5},\n",
       " mean: 0.69375, std: 0.04485, params: {'colsample_bytree': 0.6},\n",
       " mean: 0.72188, std: 0.02500, params: {'colsample_bytree': 0.7},\n",
       " mean: 0.72188, std: 0.02500, params: {'colsample_bytree': 0.8},\n",
       " mean: 0.72188, std: 0.02500, params: {'colsample_bytree': 0.9}]"
      ]
     },
     "execution_count": 96,
     "metadata": {},
     "output_type": "execute_result"
    }
   ],
   "source": [
    "#[i/10.0 for i in range(6,10)]\n",
    "cv_params = {'colsample_bytree':[i/10.0 for i in range(3,10)]}\n",
    "ind_params = {'n_estimators': 1000, 'seed':0, 'gamma':0.1, \n",
    "             'objective': 'binary:logistic', 'max_depth': 3, 'min_child_weight': 3,'learning_rate':0.01,'subsample':0.8}\n",
    "optimized_GBM = GridSearchCV(xgb.XGBClassifier(**ind_params), \n",
    "                            cv_params, \n",
    "                             scoring = 'accuracy', cv = 5, n_jobs = -1) \n",
    "# Optimize for accuracy since that is the metric used in the Adult Data Set notation\n",
    "optimized_GBM.fit(X_train, y_train)\n",
    "optimized_GBM.grid_scores_"
   ]
  },
  {
   "cell_type": "code",
   "execution_count": 97,
   "metadata": {},
   "outputs": [],
   "source": [
    "our_params = {'eta': 0.01, 'seed':0, 'subsample': 0.8, 'colsample_bytree': 0.8, \n",
    "             'objective': 'binary:logistic', 'max_depth':3, 'min_child_weight':3,'gamma':0.1} \n",
    "# Grid Search CV optimized settings\n",
    "\n",
    "cv_xgb = xgb.cv(params = our_params, dtrain = dtrain, num_boost_round = 3000, nfold = 5,\n",
    "                metrics = ['auc'], # Make sure you enter metrics inside a list or you may encounter issues!\n",
    "                early_stopping_rounds = 100) # Look for early stopping that minimizes error"
   ]
  },
  {
   "cell_type": "code",
   "execution_count": 98,
   "metadata": {},
   "outputs": [
    {
     "data": {
      "text/html": [
       "<div>\n",
       "<style>\n",
       "    .dataframe thead tr:only-child th {\n",
       "        text-align: right;\n",
       "    }\n",
       "\n",
       "    .dataframe thead th {\n",
       "        text-align: left;\n",
       "    }\n",
       "\n",
       "    .dataframe tbody tr th {\n",
       "        vertical-align: top;\n",
       "    }\n",
       "</style>\n",
       "<table border=\"1\" class=\"dataframe\">\n",
       "  <thead>\n",
       "    <tr style=\"text-align: right;\">\n",
       "      <th></th>\n",
       "      <th>test-auc-mean</th>\n",
       "      <th>test-auc-std</th>\n",
       "      <th>train-auc-mean</th>\n",
       "      <th>train-auc-std</th>\n",
       "    </tr>\n",
       "  </thead>\n",
       "  <tbody>\n",
       "    <tr>\n",
       "      <th>0</th>\n",
       "      <td>0.615764</td>\n",
       "      <td>0.030799</td>\n",
       "      <td>0.693257</td>\n",
       "      <td>0.013016</td>\n",
       "    </tr>\n",
       "    <tr>\n",
       "      <th>1</th>\n",
       "      <td>0.603759</td>\n",
       "      <td>0.049796</td>\n",
       "      <td>0.726469</td>\n",
       "      <td>0.006656</td>\n",
       "    </tr>\n",
       "    <tr>\n",
       "      <th>2</th>\n",
       "      <td>0.617045</td>\n",
       "      <td>0.057101</td>\n",
       "      <td>0.752060</td>\n",
       "      <td>0.010804</td>\n",
       "    </tr>\n",
       "    <tr>\n",
       "      <th>3</th>\n",
       "      <td>0.623488</td>\n",
       "      <td>0.042100</td>\n",
       "      <td>0.763715</td>\n",
       "      <td>0.012929</td>\n",
       "    </tr>\n",
       "    <tr>\n",
       "      <th>4</th>\n",
       "      <td>0.647434</td>\n",
       "      <td>0.042675</td>\n",
       "      <td>0.769281</td>\n",
       "      <td>0.014373</td>\n",
       "    </tr>\n",
       "    <tr>\n",
       "      <th>5</th>\n",
       "      <td>0.644989</td>\n",
       "      <td>0.037922</td>\n",
       "      <td>0.766662</td>\n",
       "      <td>0.015561</td>\n",
       "    </tr>\n",
       "    <tr>\n",
       "      <th>6</th>\n",
       "      <td>0.648866</td>\n",
       "      <td>0.037653</td>\n",
       "      <td>0.775085</td>\n",
       "      <td>0.009279</td>\n",
       "    </tr>\n",
       "    <tr>\n",
       "      <th>7</th>\n",
       "      <td>0.643818</td>\n",
       "      <td>0.040860</td>\n",
       "      <td>0.778768</td>\n",
       "      <td>0.005882</td>\n",
       "    </tr>\n",
       "    <tr>\n",
       "      <th>8</th>\n",
       "      <td>0.643458</td>\n",
       "      <td>0.039675</td>\n",
       "      <td>0.783019</td>\n",
       "      <td>0.006375</td>\n",
       "    </tr>\n",
       "    <tr>\n",
       "      <th>9</th>\n",
       "      <td>0.635271</td>\n",
       "      <td>0.034376</td>\n",
       "      <td>0.785928</td>\n",
       "      <td>0.007699</td>\n",
       "    </tr>\n",
       "    <tr>\n",
       "      <th>10</th>\n",
       "      <td>0.642232</td>\n",
       "      <td>0.041581</td>\n",
       "      <td>0.784273</td>\n",
       "      <td>0.005620</td>\n",
       "    </tr>\n",
       "    <tr>\n",
       "      <th>11</th>\n",
       "      <td>0.646943</td>\n",
       "      <td>0.044394</td>\n",
       "      <td>0.786863</td>\n",
       "      <td>0.002708</td>\n",
       "    </tr>\n",
       "    <tr>\n",
       "      <th>12</th>\n",
       "      <td>0.643962</td>\n",
       "      <td>0.042472</td>\n",
       "      <td>0.789145</td>\n",
       "      <td>0.004630</td>\n",
       "    </tr>\n",
       "    <tr>\n",
       "      <th>13</th>\n",
       "      <td>0.642456</td>\n",
       "      <td>0.047180</td>\n",
       "      <td>0.790557</td>\n",
       "      <td>0.005457</td>\n",
       "    </tr>\n",
       "    <tr>\n",
       "      <th>14</th>\n",
       "      <td>0.644929</td>\n",
       "      <td>0.052054</td>\n",
       "      <td>0.790307</td>\n",
       "      <td>0.006657</td>\n",
       "    </tr>\n",
       "    <tr>\n",
       "      <th>15</th>\n",
       "      <td>0.646430</td>\n",
       "      <td>0.050816</td>\n",
       "      <td>0.790577</td>\n",
       "      <td>0.004240</td>\n",
       "    </tr>\n",
       "    <tr>\n",
       "      <th>16</th>\n",
       "      <td>0.649746</td>\n",
       "      <td>0.046806</td>\n",
       "      <td>0.790044</td>\n",
       "      <td>0.004481</td>\n",
       "    </tr>\n",
       "    <tr>\n",
       "      <th>17</th>\n",
       "      <td>0.652947</td>\n",
       "      <td>0.049748</td>\n",
       "      <td>0.789247</td>\n",
       "      <td>0.004693</td>\n",
       "    </tr>\n",
       "    <tr>\n",
       "      <th>18</th>\n",
       "      <td>0.655628</td>\n",
       "      <td>0.046141</td>\n",
       "      <td>0.790517</td>\n",
       "      <td>0.004771</td>\n",
       "    </tr>\n",
       "    <tr>\n",
       "      <th>19</th>\n",
       "      <td>0.656996</td>\n",
       "      <td>0.049968</td>\n",
       "      <td>0.790675</td>\n",
       "      <td>0.005088</td>\n",
       "    </tr>\n",
       "  </tbody>\n",
       "</table>\n",
       "</div>"
      ],
      "text/plain": [
       "    test-auc-mean  test-auc-std  train-auc-mean  train-auc-std\n",
       "0        0.615764      0.030799        0.693257       0.013016\n",
       "1        0.603759      0.049796        0.726469       0.006656\n",
       "2        0.617045      0.057101        0.752060       0.010804\n",
       "3        0.623488      0.042100        0.763715       0.012929\n",
       "4        0.647434      0.042675        0.769281       0.014373\n",
       "5        0.644989      0.037922        0.766662       0.015561\n",
       "6        0.648866      0.037653        0.775085       0.009279\n",
       "7        0.643818      0.040860        0.778768       0.005882\n",
       "8        0.643458      0.039675        0.783019       0.006375\n",
       "9        0.635271      0.034376        0.785928       0.007699\n",
       "10       0.642232      0.041581        0.784273       0.005620\n",
       "11       0.646943      0.044394        0.786863       0.002708\n",
       "12       0.643962      0.042472        0.789145       0.004630\n",
       "13       0.642456      0.047180        0.790557       0.005457\n",
       "14       0.644929      0.052054        0.790307       0.006657\n",
       "15       0.646430      0.050816        0.790577       0.004240\n",
       "16       0.649746      0.046806        0.790044       0.004481\n",
       "17       0.652947      0.049748        0.789247       0.004693\n",
       "18       0.655628      0.046141        0.790517       0.004771\n",
       "19       0.656996      0.049968        0.790675       0.005088"
      ]
     },
     "execution_count": 98,
     "metadata": {},
     "output_type": "execute_result"
    }
   ],
   "source": [
    "cv_xgb"
   ]
  },
  {
   "cell_type": "code",
   "execution_count": 99,
   "metadata": {
    "collapsed": true
   },
   "outputs": [],
   "source": [
    "our_params = {'eta': 0.01, 'seed':0, 'subsample': 0.8, 'colsample_bytree': 0.8, \n",
    "             'objective': 'binary:logistic', 'max_depth':3, 'min_child_weight':3,'gamma':0.1} \n",
    "\n",
    "final_gb = xgb.train(our_params, dtrain, num_boost_round = 20)"
   ]
  },
  {
   "cell_type": "code",
   "execution_count": 103,
   "metadata": {},
   "outputs": [
    {
     "data": {
      "text/plain": [
       "19"
      ]
     },
     "execution_count": 103,
     "metadata": {},
     "output_type": "execute_result"
    }
   ],
   "source": [
    "final_gb.best_iteration"
   ]
  },
  {
   "cell_type": "code",
   "execution_count": 65,
   "metadata": {},
   "outputs": [
    {
     "data": {
      "text/plain": [
       "['gre', 'gpa', 'rank']"
      ]
     },
     "execution_count": 65,
     "metadata": {},
     "output_type": "execute_result"
    }
   ],
   "source": [
    "dtest.feature_names"
   ]
  },
  {
   "cell_type": "code",
   "execution_count": 83,
   "metadata": {},
   "outputs": [
    {
     "data": {
      "text/plain": [
       "<matplotlib.axes._subplots.AxesSubplot at 0x6d78400>"
      ]
     },
     "execution_count": 83,
     "metadata": {},
     "output_type": "execute_result"
    },
    {
     "data": {
      "image/png": "[encoded data removed]",
      "text/plain": [
       "<matplotlib.figure.Figure at 0x6e153c8>"
      ]
     },
     "metadata": {},
     "output_type": "display_data"
    }
   ],
   "source": [
    "%matplotlib inline\n",
    "xgb.plot_importance(final_gb)"
   ]
  },
  {
   "cell_type": "code",
   "execution_count": 106,
   "metadata": {},
   "outputs": [],
   "source": [
    "d_test=xgb.DMatrix(X_test,y_test)"
   ]
  },
  {
   "cell_type": "code",
   "execution_count": 108,
   "metadata": {
    "collapsed": true
   },
   "outputs": [],
   "source": [
    "d_test.feature_names=['f0', 'f1', 'f2']"
   ]
  },
  {
   "cell_type": "code",
   "execution_count": 112,
   "metadata": {},
   "outputs": [],
   "source": [
    "y_pred=final_gb.predict(d_test)"
   ]
  },
  {
   "cell_type": "code",
   "execution_count": 113,
   "metadata": {},
   "outputs": [],
   "source": [
    "y_pred[y_pred > 0.5] = 1\n",
    "y_pred[y_pred <= 0.5] = 0\n"
   ]
  },
  {
   "cell_type": "code",
   "execution_count": 114,
   "metadata": {},
   "outputs": [
    {
     "name": "stdout",
     "output_type": "stream",
     "text": [
      "0.7125\n"
     ]
    }
   ],
   "source": [
    "print(accuracy_score(y_pred,y_test))"
   ]
  },
  {
   "cell_type": "code",
   "execution_count": 1,
   "metadata": {
    "collapsed": true
   },
   "outputs": [],
   "source": [
    "text = open(\"C:/Users/Akshat/Desktop/SlangSD.txt\", \"rb\").read()\n"
   ]
  },
  {
   "cell_type": "code",
   "execution_count": 3,
   "metadata": {},
   "outputs": [
    {
     "ename": "TypeError",
     "evalue": "a bytes-like object is required, not 'str'",
     "output_type": "error",
     "traceback": [
      "\u001b[1;31m---------------------------------------------------------------------------\u001b[0m",
      "\u001b[1;31mTypeError\u001b[0m                                 Traceback (most recent call last)",
      "\u001b[1;32m<ipython-input-3-32b587b60312>\u001b[0m in \u001b[0;36m<module>\u001b[1;34m()\u001b[0m\n\u001b[1;32m----> 1\u001b[1;33m \u001b[0mt\u001b[0m\u001b[1;33m=\u001b[0m\u001b[0mtext\u001b[0m\u001b[1;33m.\u001b[0m\u001b[0msplit\u001b[0m\u001b[1;33m(\u001b[0m\u001b[1;34m'r\\na'\u001b[0m\u001b[1;33m)\u001b[0m\u001b[1;33m\u001b[0m\u001b[0m\n\u001b[0m",
      "\u001b[1;31mTypeError\u001b[0m: a bytes-like object is required, not 'str'"
     ]
    }
   ],
   "source": [
    "t=text.split('r\\na')"
   ]
  },
  {
   "cell_type": "code",
   "execution_count": null,
   "metadata": {},
   "outputs": [],
   "source": []
  },
  {
   "cell_type": "code",
   "execution_count": 9,
   "metadata": {},
   "outputs": [],
   "source": [
    "t=str(text)"
   ]
  },
  {
   "cell_type": "code",
   "execution_count": 10,
   "metadata": {
    "collapsed": true
   },
   "outputs": [],
   "source": [
    "a=t.split('\\\\')"
   ]
  },
  {
   "cell_type": "code",
   "execution_count": 12,
   "metadata": {},
   "outputs": [],
   "source": [
    "b=a[0:100]"
   ]
  },
  {
   "cell_type": "code",
   "execution_count": 13,
   "metadata": {
    "collapsed": true
   },
   "outputs": [],
   "source": [
    "c=[]\n",
    "for i in b:\n",
    "    d=i.replace('na-','')\n",
    "    c.append(d)"
   ]
  },
  {
   "cell_type": "code",
   "execution_count": 112,
   "metadata": {},
   "outputs": [
    {
     "ename": "SyntaxError",
     "evalue": "invalid syntax (<ipython-input-112-f6a579e82fdc>, line 1)",
     "output_type": "error",
     "traceback": [
      "\u001b[1;36m  File \u001b[1;32m\"<ipython-input-112-f6a579e82fdc>\"\u001b[1;36m, line \u001b[1;32m1\u001b[0m\n\u001b[1;33m    [i for i in b i.replace('na-','')]\u001b[0m\n\u001b[1;37m                  ^\u001b[0m\n\u001b[1;31mSyntaxError\u001b[0m\u001b[1;31m:\u001b[0m invalid syntax\n"
     ]
    }
   ],
   "source": [
    "[i for i in b i.replace('na-','')]"
   ]
  },
  {
   "cell_type": "code",
   "execution_count": 22,
   "metadata": {},
   "outputs": [],
   "source": [
    "import re"
   ]
  },
  {
   "cell_type": "code",
   "execution_count": 151,
   "metadata": {},
   "outputs": [
    {
     "data": {
      "text/plain": [
       "['r',\n",
       " 'face',\n",
       " 't-1',\n",
       " 'r',\n",
       " 'gina',\n",
       " 't1',\n",
       " 'r',\n",
       " 'hair',\n",
       " 't-1',\n",
       " 'r',\n",
       " 'heavin',\n",
       " \"'\",\n",
       " 't0',\n",
       " 'r',\n",
       " 'k shocker',\n",
       " 't-1',\n",
       " 'r',\n",
       " 'o',\n",
       " 't-1',\n",
       " 'r']"
      ]
     },
     "execution_count": 151,
     "metadata": {},
     "output_type": "execute_result"
    }
   ],
   "source": [
    "[w for w in c[40:60] if re.sub('na-','',w)]"
   ]
  },
  {
   "cell_type": "code",
   "execution_count": 27,
   "metadata": {},
   "outputs": [
    {
     "data": {
      "text/plain": [
       "['r',\n",
       " '7',\n",
       " 't0',\n",
       " 'r',\n",
       " 'b',\n",
       " 't0',\n",
       " 'r',\n",
       " 'bloonie',\n",
       " 't0',\n",
       " 'r',\n",
       " 'cup slut',\n",
       " 't-1',\n",
       " 'r',\n",
       " 'face',\n",
       " 't-1',\n",
       " 'r',\n",
       " 'gina',\n",
       " 't1',\n",
       " 'r',\n",
       " 'hair']"
      ]
     },
     "execution_count": 27,
     "metadata": {},
     "output_type": "execute_result"
    }
   ],
   "source": [
    "c[40:60]"
   ]
  },
  {
   "cell_type": "code",
   "execution_count": 103,
   "metadata": {},
   "outputs": [],
   "source": [
    "# [w \n",
    "#  for w in c[40:60] \n",
    "#  if re.findall('(t(-|[0-9]))',w)\n",
    "#  c[40:60].pop(w)\n",
    "#  ]\n",
    "x=[]\n",
    "for w in z:\n",
    "    if re.findall('t(-|[0-9])',w):\n",
    "        z.remove(w)\n",
    "\n",
    "    \n",
    "\n"
   ]
  },
  {
   "cell_type": "code",
   "execution_count": 104,
   "metadata": {},
   "outputs": [
    {
     "data": {
      "text/plain": [
       "['r',\n",
       " 'face',\n",
       " 'r',\n",
       " 'gina',\n",
       " 'r',\n",
       " 'hair',\n",
       " 'r',\n",
       " 'heavin',\n",
       " \"'\",\n",
       " 'r',\n",
       " 'k shocker',\n",
       " 'r',\n",
       " 'o',\n",
       " 'r']"
      ]
     },
     "execution_count": 104,
     "metadata": {},
     "output_type": "execute_result"
    }
   ],
   "source": []
  },
  {
   "cell_type": "code",
   "execution_count": 72,
   "metadata": {},
   "outputs": [
    {
     "ename": "TypeError",
     "evalue": "expected string or bytes-like object",
     "output_type": "error",
     "traceback": [
      "\u001b[1;31m---------------------------------------------------------------------------\u001b[0m",
      "\u001b[1;31mTypeError\u001b[0m                                 Traceback (most recent call last)",
      "\u001b[1;32m<ipython-input-72-51891383c163>\u001b[0m in \u001b[0;36m<module>\u001b[1;34m()\u001b[0m\n\u001b[1;32m----> 1\u001b[1;33m \u001b[0mre\u001b[0m\u001b[1;33m.\u001b[0m\u001b[0mfindall\u001b[0m\u001b[1;33m(\u001b[0m\u001b[1;34m'(t(-|[0-9]))'\u001b[0m\u001b[1;33m,\u001b[0m\u001b[0mc\u001b[0m\u001b[1;33m[\u001b[0m\u001b[1;36m40\u001b[0m\u001b[1;33m:\u001b[0m\u001b[1;36m60\u001b[0m\u001b[1;33m]\u001b[0m\u001b[1;33m)\u001b[0m\u001b[1;33m\u001b[0m\u001b[0m\n\u001b[0m",
      "\u001b[1;32mC:\\Users\\Akshat\\Anaconda3\\lib\\re.py\u001b[0m in \u001b[0;36mfindall\u001b[1;34m(pattern, string, flags)\u001b[0m\n\u001b[0;32m    220\u001b[0m \u001b[1;33m\u001b[0m\u001b[0m\n\u001b[0;32m    221\u001b[0m     Empty matches are included in the result.\"\"\"\n\u001b[1;32m--> 222\u001b[1;33m     \u001b[1;32mreturn\u001b[0m \u001b[0m_compile\u001b[0m\u001b[1;33m(\u001b[0m\u001b[0mpattern\u001b[0m\u001b[1;33m,\u001b[0m \u001b[0mflags\u001b[0m\u001b[1;33m)\u001b[0m\u001b[1;33m.\u001b[0m\u001b[0mfindall\u001b[0m\u001b[1;33m(\u001b[0m\u001b[0mstring\u001b[0m\u001b[1;33m)\u001b[0m\u001b[1;33m\u001b[0m\u001b[0m\n\u001b[0m\u001b[0;32m    223\u001b[0m \u001b[1;33m\u001b[0m\u001b[0m\n\u001b[0;32m    224\u001b[0m \u001b[1;32mdef\u001b[0m \u001b[0mfinditer\u001b[0m\u001b[1;33m(\u001b[0m\u001b[0mpattern\u001b[0m\u001b[1;33m,\u001b[0m \u001b[0mstring\u001b[0m\u001b[1;33m,\u001b[0m \u001b[0mflags\u001b[0m\u001b[1;33m=\u001b[0m\u001b[1;36m0\u001b[0m\u001b[1;33m)\u001b[0m\u001b[1;33m:\u001b[0m\u001b[1;33m\u001b[0m\u001b[0m\n",
      "\u001b[1;31mTypeError\u001b[0m: expected string or bytes-like object"
     ]
    }
   ],
   "source": [
    "re.findall('(t(-|[0-9]))')"
   ]
  },
  {
   "cell_type": "code",
   "execution_count": null,
   "metadata": {},
   "outputs": [],
   "source": []
  },
  {
   "cell_type": "code",
   "execution_count": null,
   "metadata": {},
   "outputs": [],
   "source": []
  },
  {
   "cell_type": "code",
   "execution_count": 132,
   "metadata": {},
   "outputs": [
    {
     "data": {
      "text/plain": [
       "[None, None, None, None, None, None, None]"
      ]
     },
     "execution_count": 132,
     "metadata": {},
     "output_type": "execute_result"
    }
   ],
   "source": [
    "[a.remove(w) for w in a if re.search('^na$',w)]"
   ]
  },
  {
   "cell_type": "code",
   "execution_count": null,
   "metadata": {},
   "outputs": [],
   "source": []
  },
  {
   "cell_type": "code",
   "execution_count": 42,
   "metadata": {},
   "outputs": [
    {
     "data": {
      "text/plain": [
       "'abcdefghijklmnopqrstuvwxyz'"
      ]
     },
     "execution_count": 42,
     "metadata": {},
     "output_type": "execute_result"
    }
   ],
   "source": [
    "string.ascii_lowercase"
   ]
  },
  {
   "cell_type": "code",
   "execution_count": 189,
   "metadata": {},
   "outputs": [],
   "source": [
    "def clean(text):\n",
    "    lis=[]\n",
    "    text=str(text)\n",
    "    text=text[0:300]\n",
    "    #text = \"\".join([word for word in text if word not in string.punctuation])\n",
    "    text=text.split('\\\\')\n",
    "    for i in text:\n",
    "        i=i.replace('na-','')\n",
    "        i=i.replace('na ','')\n",
    "        lis.append(i)\n",
    "    [lis.remove(w) for w in lis if w in string.punctuation]\n",
    "    [lis.remove(w) for w in lis if re.search('t(-|[0-9])',w)]\n",
    "    [lis.remove(w) for w in lis if re.search('^[abcdefghijklmnopqrstuvwxyz]$',w)]\n",
    "    [lis.remove(w) for w in lis if re.search('^na$',w)]\n",
    "    [w.replace(\"'\",'') for w in lis]\n",
    "    [lis.remove(w) for w in lis if re.search('[0-9]',w)]\n",
    "    [lis.remove(w) for w in lis if re.search('^[abcdefghijklmnopqrstuvwxyz]$',w)]\n",
    "    #lis=\"\".join([word for word in lis if word not in string.punctuation])\n",
    "    return lis"
   ]
  },
  {
   "cell_type": "code",
   "execution_count": 175,
   "metadata": {},
   "outputs": [
    {
     "data": {
      "text/plain": [
       "[\"b'a\",\n",
       " \"'\",\n",
       " 't-1',\n",
       " 'r',\n",
       " \"'f\",\n",
       " 't1',\n",
       " 'r',\n",
       " \"'ight\",\n",
       " 't-1',\n",
       " 'r',\n",
       " \"'nnesia\",\n",
       " 't-1',\n",
       " 'r',\n",
       " \"'pcha\",\n",
       " 't0',\n",
       " 'r',\n",
       " \"'s\",\n",
       " 't1',\n",
       " 'r',\n",
       " \"'shaa\",\n",
       " 't0',\n",
       " 'r',\n",
       " \"'zareah\",\n",
       " 't0',\n",
       " 'r',\n",
       " 'na-',\n",
       " 't0',\n",
       " 'r',\n",
       " 'na-1',\n",
       " 't-1',\n",
       " 'r',\n",
       " 'na-5',\n",
       " 't-1',\n",
       " 'r',\n",
       " 'na-7',\n",
       " 't0',\n",
       " 'r',\n",
       " 'na-b',\n",
       " 't0',\n",
       " 'r',\n",
       " 'na-bloonie',\n",
       " 't0',\n",
       " 'r',\n",
       " 'na-cup slut',\n",
       " 't-1',\n",
       " 'r',\n",
       " 'na-face',\n",
       " 't-1',\n",
       " 'r',\n",
       " 'na-gina',\n",
       " 't1',\n",
       " 'r',\n",
       " 'na-hair',\n",
       " 't-1',\n",
       " 'r',\n",
       " 'na-heavin',\n",
       " \"'\",\n",
       " 't0',\n",
       " 'r',\n",
       " 'na-k shocker',\n",
       " 't-1',\n",
       " 'r',\n",
       " 'na-o',\n",
       " 't-1',\n",
       " 'r',\n",
       " 'na-phone',\n",
       " 't-1',\n",
       " 'r',\n",
       " 'na-pooh-stics',\n",
       " 't0',\n",
       " 'r',\n",
       " 'na-round',\n",
       " 't0',\n",
       " 'r',\n",
       " 'na-squared',\n",
       " 't0',\n",
       " 'r',\n",
       " 'na-status',\n",
       " 't-1',\n",
       " 'r',\n",
       " 'na-stumpy',\n",
       " 't0',\n",
       " 'r',\n",
       " 'na-textual',\n",
       " 't0',\n",
       " 'r',\n",
       " 'na-town',\n",
       " 't1',\n",
       " 'r',\n",
       " 'na-town altamont kansas',\n",
       " 't-1',\n",
       " 'r',\n",
       " 'na-town crew',\n",
       " 't0',\n",
       " 'r',\n",
       " 'na-towners',\n",
       " 't-2',\n",
       " 'r',\n",
       " 'na-train bad',\n",
       " 't-1',\n",
       " 'r',\n",
       " 'na \"bitch\"',\n",
       " 't-1',\n",
       " 'r',\n",
       " 'na 10-4',\n",
       " 't1',\n",
       " 'r',\n",
       " 'na 3 day',\n",
       " 't0',\n",
       " 'r',\n",
       " 'na a',\n",
       " 't-1',\n",
       " 'r',\n",
       " 'na b',\n",
       " 't0',\n",
       " 'r',\n",
       " 'na bad amount of money',\n",
       " 't-1',\n",
       " 'r',\n",
       " 'na bad mother',\n",
       " 't-1',\n",
       " 'r',\n",
       " 'na bad taste in my mouth',\n",
       " 't-1',\n",
       " 'r',\n",
       " 'na bad word',\n",
       " 't0',\n",
       " 'r',\n",
       " 'na bag o',\n",
       " \"' beagles\",\n",
       " 't-1',\n",
       " 'r',\n",
       " 'na bag of old and moldy ass',\n",
       " 't-1',\n",
       " 'r',\n",
       " 'na barlow',\n",
       " 't-1',\n",
       " 'r',\n",
       " 'na barney',\n",
       " 't-1',\n",
       " 'r',\n",
       " 'na barrel full of monkeys',\n",
       " 't0',\n",
       " 'r',\n",
       " 'na batman',\n",
       " 't1',\n",
       " 'r',\n",
       " 'na bevy; pulling a bevy',\n",
       " 't0',\n",
       " 'r',\n",
       " 'na bit windy',\n",
       " 't0',\n",
       " 'r',\n",
       " 'na bogdan',\n",
       " 't-1',\n",
       " 'r',\n",
       " 'na boongly',\n",
       " 't0',\n",
       " 'r',\n",
       " 'na brand that the fans trust',\n",
       " 't1',\n",
       " 'r',\n",
       " 'na breakfast burrito',\n",
       " 't-1',\n",
       " 'r',\n",
       " 'na bucket of shit',\n",
       " 't-1',\n",
       " 'r',\n",
       " 'na bun in the oven',\n",
       " 't-1',\n",
       " 'r',\n",
       " 'na charles',\n",
       " 't-1',\n",
       " 'r',\n",
       " 'na charles bronson',\n",
       " 't-1',\n",
       " 'r',\n",
       " 'na cheeky zeta',\n",
       " 't0',\n",
       " 'r',\n",
       " 'na cheeseburger away',\n",
       " 't0',\n",
       " 'r',\n",
       " 'na classy one',\n",
       " 't1',\n",
       " 'r',\n",
       " 'na cluster fuck',\n",
       " 't-1',\n",
       " 'r',\n",
       " 'na cold day in hell',\n",
       " 't-1',\n",
       " 'r',\n",
       " 'na crapella',\n",
       " 't-1',\n",
       " 'r',\n",
       " 'na cunt',\n",
       " \"'s errand\",\n",
       " 't-1',\n",
       " 'r',\n",
       " 'na current affair',\n",
       " 't-1',\n",
       " 'r',\n",
       " 'na cutter',\n",
       " 't1',\n",
       " 'r',\n",
       " 'na d',\n",
       " 't1',\n",
       " 'r',\n",
       " 'na deuce',\n",
       " 't-1',\n",
       " 'r',\n",
       " 'na dick in the mouth is worth two in the hand',\n",
       " 't0',\n",
       " 'r',\n",
       " 'na dime and two pennies',\n",
       " 't-1',\n",
       " 'r',\n",
       " 'na dirty pepon',\n",
       " 't-1',\n",
       " 'r',\n",
       " 'na droidian slip',\n",
       " 't-1',\n",
       " 'r',\n",
       " 'na drunk',\n",
       " 't-1',\n",
       " 'r',\n",
       " 'na drunken dinner roll',\n",
       " 't-1',\n",
       " 'r',\n",
       " 'na face a yard long',\n",
       " 't-1',\n",
       " 'r',\n",
       " 'na face only a mother could love',\n",
       " 't0',\n",
       " 'r',\n",
       " 'na fallback',\n",
       " 't1',\n",
       " 'r',\n",
       " 'na few days later',\n",
       " 't-1',\n",
       " 'r',\n",
       " 'na few minutes',\n",
       " 't-1',\n",
       " 'r',\n",
       " 'na fillion',\n",
       " 't1',\n",
       " 'r',\n",
       " 'na fire inside',\n",
       " 't1',\n",
       " 'r',\n",
       " 'na flurgin',\n",
       " 't-1',\n",
       " 'r',\n",
       " 'na frankie knife',\n",
       " 't0',\n",
       " 'r',\n",
       " 'na free loader',\n",
       " 't-1',\n",
       " 'r',\n",
       " 'na french bowl',\n",
       " 't-1',\n",
       " 'r',\n",
       " 'na full balcony',\n",
       " 't0',\n",
       " 'r',\n",
       " 'na full english',\n",
       " 't0',\n",
       " 'r',\n",
       " 'na g',\n",
       " 't0',\n",
       " 'r',\n",
       " 'na gabby',\n",
       " 't0',\n",
       " 'r',\n",
       " 'na gerard',\n",
       " 't-1',\n",
       " 'r',\n",
       " 'na girl',\n",
       " \"'s like a fridge, once a week you should stalk it.\",\n",
       " 't-1',\n",
       " 'r',\n",
       " 'na glenn potts',\n",
       " 't0',\n",
       " 'r',\n",
       " 'na gummer',\n",
       " 't-1',\n",
       " 'r',\n",
       " 'na h',\n",
       " 't0',\n",
       " 'r',\n",
       " 'na hard andrew',\n",
       " 't-2',\n",
       " 'r',\n",
       " 'na hard day',\n",
       " \"'s night\",\n",
       " 't0',\n",
       " 'r',\n",
       " 'na harry cooper',\n",
       " 't1',\n",
       " 'r']"
      ]
     },
     "execution_count": 175,
     "metadata": {},
     "output_type": "execute_result"
    }
   ],
   "source": [
    "a[0:300]"
   ]
  },
  {
   "cell_type": "code",
   "execution_count": 190,
   "metadata": {},
   "outputs": [
    {
     "data": {
      "text/plain": [
       "[\"b'a\",\n",
       " \"'f\",\n",
       " \"'ight\",\n",
       " \"'nnesia\",\n",
       " \"'pcha\",\n",
       " \"'s\",\n",
       " \"'shaa\",\n",
       " \"'zareah\",\n",
       " '5',\n",
       " 'bloonie',\n",
       " 'cup slut',\n",
       " 'face',\n",
       " 'gina',\n",
       " 'hair',\n",
       " 'heavin',\n",
       " 'k shocker',\n",
       " 'phone']"
      ]
     },
     "execution_count": 190,
     "metadata": {},
     "output_type": "execute_result"
    }
   ],
   "source": [
    "clean(text)"
   ]
  },
  {
   "cell_type": "code",
   "execution_count": 169,
   "metadata": {},
   "outputs": [
    {
     "data": {
      "text/plain": [
       "[\"b'a\",\n",
       " \"'\",\n",
       " 't-1',\n",
       " 'r',\n",
       " \"'f\",\n",
       " 't1',\n",
       " 'r',\n",
       " \"'ight\",\n",
       " 't-1',\n",
       " 'r',\n",
       " \"'nnesia\",\n",
       " 't-1',\n",
       " 'r',\n",
       " \"'pcha\",\n",
       " 't0',\n",
       " 'r',\n",
       " \"'s\",\n",
       " 't1',\n",
       " 'r',\n",
       " \"'shaa\",\n",
       " 't0',\n",
       " 'r',\n",
       " \"'zareah\",\n",
       " 't0',\n",
       " 'r',\n",
       " 't0',\n",
       " 'r',\n",
       " 'na-1',\n",
       " 't-1']"
      ]
     },
     "execution_count": 169,
     "metadata": {},
     "output_type": "execute_result"
    }
   ],
   "source": [
    "[w for w in a[0:30] if re.sub('na-','',w)]"
   ]
  },
  {
   "cell_type": "code",
   "execution_count": 33,
   "metadata": {},
   "outputs": [],
   "source": [
    "from autocorrect import spell"
   ]
  },
  {
   "cell_type": "code",
   "execution_count": 38,
   "metadata": {},
   "outputs": [
    {
     "name": "stdout",
     "output_type": "stream",
     "text": [
      "org\n"
     ]
    }
   ],
   "source": [
    "print(spell('omg'))"
   ]
  },
  {
   "cell_type": "code",
   "execution_count": 191,
   "metadata": {
    "collapsed": true
   },
   "outputs": [],
   "source": [
    "from sklearn.decomposition import LatentDirichletAllocation"
   ]
  },
  {
   "cell_type": "code",
   "execution_count": 192,
   "metadata": {},
   "outputs": [
    {
     "name": "stderr",
     "output_type": "stream",
     "text": [
      "C:\\Users\\Akshat\\Anaconda3\\lib\\site-packages\\gensim\\utils.py:860: UserWarning: detected Windows; aliasing chunkize to chunkize_serial\n",
      "  warnings.warn(\"detected Windows; aliasing chunkize to chunkize_serial\")\n"
     ]
    },
    {
     "ename": "FileNotFoundError",
     "evalue": "[Errno 2] No such file or directory: 'wiki_en_wordids.txt'",
     "output_type": "error",
     "traceback": [
      "\u001b[1;31m---------------------------------------------------------------------------\u001b[0m",
      "\u001b[1;31mFileNotFoundError\u001b[0m                         Traceback (most recent call last)",
      "\u001b[1;32m<ipython-input-192-f8ef374a731f>\u001b[0m in \u001b[0;36m<module>\u001b[1;34m()\u001b[0m\n\u001b[0;32m      1\u001b[0m \u001b[1;32mimport\u001b[0m \u001b[0mgensim\u001b[0m\u001b[1;33m\u001b[0m\u001b[0m\n\u001b[0;32m      2\u001b[0m \u001b[1;31m# load id->word mapping (the dictionary)\u001b[0m\u001b[1;33m\u001b[0m\u001b[1;33m\u001b[0m\u001b[0m\n\u001b[1;32m----> 3\u001b[1;33m \u001b[0mid2word\u001b[0m \u001b[1;33m=\u001b[0m \u001b[0mgensim\u001b[0m\u001b[1;33m.\u001b[0m\u001b[0mcorpora\u001b[0m\u001b[1;33m.\u001b[0m\u001b[0mDictionary\u001b[0m\u001b[1;33m.\u001b[0m\u001b[0mload_from_text\u001b[0m\u001b[1;33m(\u001b[0m\u001b[1;34m'wiki_en_wordids.txt'\u001b[0m\u001b[1;33m)\u001b[0m\u001b[1;33m\u001b[0m\u001b[0m\n\u001b[0m\u001b[0;32m      4\u001b[0m \u001b[1;31m# load corpus iterator\u001b[0m\u001b[1;33m\u001b[0m\u001b[1;33m\u001b[0m\u001b[0m\n\u001b[0;32m      5\u001b[0m \u001b[0mmm\u001b[0m \u001b[1;33m=\u001b[0m \u001b[0mgensim\u001b[0m\u001b[1;33m.\u001b[0m\u001b[0mcorpora\u001b[0m\u001b[1;33m.\u001b[0m\u001b[0mMmCorpus\u001b[0m\u001b[1;33m(\u001b[0m\u001b[1;34m'wiki_en_tfidf.mm'\u001b[0m\u001b[1;33m)\u001b[0m\u001b[1;33m\u001b[0m\u001b[0m\n",
      "\u001b[1;32mC:\\Users\\Akshat\\Anaconda3\\lib\\site-packages\\gensim\\corpora\\dictionary.py\u001b[0m in \u001b[0;36mload_from_text\u001b[1;34m(fname)\u001b[0m\n\u001b[0;32m    349\u001b[0m         \"\"\"\n\u001b[0;32m    350\u001b[0m         \u001b[0mresult\u001b[0m \u001b[1;33m=\u001b[0m \u001b[0mDictionary\u001b[0m\u001b[1;33m(\u001b[0m\u001b[1;33m)\u001b[0m\u001b[1;33m\u001b[0m\u001b[0m\n\u001b[1;32m--> 351\u001b[1;33m         \u001b[1;32mwith\u001b[0m \u001b[0mutils\u001b[0m\u001b[1;33m.\u001b[0m\u001b[0msmart_open\u001b[0m\u001b[1;33m(\u001b[0m\u001b[0mfname\u001b[0m\u001b[1;33m)\u001b[0m \u001b[1;32mas\u001b[0m \u001b[0mf\u001b[0m\u001b[1;33m:\u001b[0m\u001b[1;33m\u001b[0m\u001b[0m\n\u001b[0m\u001b[0;32m    352\u001b[0m             \u001b[1;32mfor\u001b[0m \u001b[0mlineno\u001b[0m\u001b[1;33m,\u001b[0m \u001b[0mline\u001b[0m \u001b[1;32min\u001b[0m \u001b[0menumerate\u001b[0m\u001b[1;33m(\u001b[0m\u001b[0mf\u001b[0m\u001b[1;33m)\u001b[0m\u001b[1;33m:\u001b[0m\u001b[1;33m\u001b[0m\u001b[0m\n\u001b[0;32m    353\u001b[0m                 \u001b[0mline\u001b[0m \u001b[1;33m=\u001b[0m \u001b[0mutils\u001b[0m\u001b[1;33m.\u001b[0m\u001b[0mto_unicode\u001b[0m\u001b[1;33m(\u001b[0m\u001b[0mline\u001b[0m\u001b[1;33m)\u001b[0m\u001b[1;33m\u001b[0m\u001b[0m\n",
      "\u001b[1;32mC:\\Users\\Akshat\\Anaconda3\\lib\\site-packages\\smart_open\\smart_open_lib.py\u001b[0m in \u001b[0;36msmart_open\u001b[1;34m(uri, mode, **kw)\u001b[0m\n\u001b[0;32m    138\u001b[0m             \u001b[1;31m# local files -- both read & write supported\u001b[0m\u001b[1;33m\u001b[0m\u001b[1;33m\u001b[0m\u001b[0m\n\u001b[0;32m    139\u001b[0m             \u001b[1;31m# compression, if any, is determined by the filename extension (.gz, .bz2)\u001b[0m\u001b[1;33m\u001b[0m\u001b[1;33m\u001b[0m\u001b[0m\n\u001b[1;32m--> 140\u001b[1;33m             \u001b[1;32mreturn\u001b[0m \u001b[0mfile_smart_open\u001b[0m\u001b[1;33m(\u001b[0m\u001b[0mparsed_uri\u001b[0m\u001b[1;33m.\u001b[0m\u001b[0muri_path\u001b[0m\u001b[1;33m,\u001b[0m \u001b[0mmode\u001b[0m\u001b[1;33m)\u001b[0m\u001b[1;33m\u001b[0m\u001b[0m\n\u001b[0m\u001b[0;32m    141\u001b[0m         \u001b[1;32melif\u001b[0m \u001b[0mparsed_uri\u001b[0m\u001b[1;33m.\u001b[0m\u001b[0mscheme\u001b[0m \u001b[1;32min\u001b[0m \u001b[1;33m(\u001b[0m\u001b[1;34m\"s3\"\u001b[0m\u001b[1;33m,\u001b[0m \u001b[1;34m\"s3n\"\u001b[0m\u001b[1;33m,\u001b[0m \u001b[1;34m\"s3u\"\u001b[0m\u001b[1;33m)\u001b[0m\u001b[1;33m:\u001b[0m\u001b[1;33m\u001b[0m\u001b[0m\n\u001b[0;32m    142\u001b[0m             \u001b[0mkwargs\u001b[0m \u001b[1;33m=\u001b[0m \u001b[1;33m{\u001b[0m\u001b[1;33m}\u001b[0m\u001b[1;33m\u001b[0m\u001b[0m\n",
      "\u001b[1;32mC:\\Users\\Akshat\\Anaconda3\\lib\\site-packages\\smart_open\\smart_open_lib.py\u001b[0m in \u001b[0;36mfile_smart_open\u001b[1;34m(fname, mode)\u001b[0m\n\u001b[0;32m    642\u001b[0m \u001b[1;33m\u001b[0m\u001b[0m\n\u001b[0;32m    643\u001b[0m     \"\"\"\n\u001b[1;32m--> 644\u001b[1;33m     \u001b[1;32mreturn\u001b[0m \u001b[0mcompression_wrapper\u001b[0m\u001b[1;33m(\u001b[0m\u001b[0mopen\u001b[0m\u001b[1;33m(\u001b[0m\u001b[0mfname\u001b[0m\u001b[1;33m,\u001b[0m \u001b[0mmode\u001b[0m\u001b[1;33m)\u001b[0m\u001b[1;33m,\u001b[0m \u001b[0mfname\u001b[0m\u001b[1;33m,\u001b[0m \u001b[0mmode\u001b[0m\u001b[1;33m)\u001b[0m\u001b[1;33m\u001b[0m\u001b[0m\n\u001b[0m\u001b[0;32m    645\u001b[0m \u001b[1;33m\u001b[0m\u001b[0m\n\u001b[0;32m    646\u001b[0m \u001b[1;33m\u001b[0m\u001b[0m\n",
      "\u001b[1;31mFileNotFoundError\u001b[0m: [Errno 2] No such file or directory: 'wiki_en_wordids.txt'"
     ]
    }
   ],
   "source": [
    "ld=LatentDirichletAllocation()"
   ]
  },
  {
   "cell_type": "code",
   "execution_count": null,
   "metadata": {
    "collapsed": true
   },
   "outputs": [],
   "source": []
  }
 ],
 "metadata": {
  "kernelspec": {
   "display_name": "Python 3",
   "language": "python",
   "name": "python3"
  },
  "language_info": {
   "codemirror_mode": {
    "name": "ipython",
    "version": 3
   },
   "file_extension": ".py",
   "mimetype": "text/x-python",
   "name": "python",
   "nbconvert_exporter": "python",
   "pygments_lexer": "ipython3",
   "version": "3.6.1"
  }
 },
 "nbformat": 4,
 "nbformat_minor": 2
}
